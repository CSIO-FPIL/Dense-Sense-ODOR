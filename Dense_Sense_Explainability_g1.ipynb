{
 "cells": [
  {
   "cell_type": "code",
   "execution_count": 1,
   "metadata": {},
   "outputs": [
    {
     "name": "stderr",
     "output_type": "stream",
     "text": [
      "No normalization for SPS. Feature removed!\n",
      "No normalization for AvgIpc. Feature removed!\n",
      "c:\\Users\\sarab\\miniconda3\\envs\\ENV4\\lib\\site-packages\\tqdm\\auto.py:21: TqdmWarning: IProgress not found. Please update jupyter and ipywidgets. See https://ipywidgets.readthedocs.io/en/stable/user_install.html\n",
      "  from .autonotebook import tqdm as notebook_tqdm\n"
     ]
    },
    {
     "name": "stdout",
     "output_type": "stream",
     "text": [
      "WARNING:tensorflow:From c:\\Users\\sarab\\miniconda3\\envs\\ENV4\\lib\\site-packages\\tensorflow\\python\\util\\deprecation.py:588: calling function (from tensorflow.python.eager.polymorphic_function.polymorphic_function) with experimental_relax_shapes is deprecated and will be removed in a future version.\n",
      "Instructions for updating:\n",
      "experimental_relax_shapes is deprecated, use reduce_retracing instead\n"
     ]
    }
   ],
   "source": [
    "import deepchem as dc\n",
    "from openpom.feat.graph_featurizer import GraphFeaturizer, GraphConvConstants\n",
    "from openpom.utils.data_utils import get_class_imbalance_ratio\n",
    "from openpom.models.mpnn_pom import MPNNPOMModel\n",
    "from datetime import datetime\n",
    "\n",
    "\n",
    "import numpy as np\n",
    "import matplotlib.pyplot as plt\n",
    "\n",
    "import numpy as np\n",
    "import deepchem as dc\n",
    "import numpy as np\n",
    "from deepchem.feat import GraphData\n",
    "import pandas as pd\n",
    "from deepchem.feat import DMPNNFeaturizer\n",
    "import deepchem as dc\n"
   ]
  },
  {
   "cell_type": "code",
   "execution_count": 2,
   "metadata": {},
   "outputs": [],
   "source": [
    "def get_graphs(weighted_adj_matrix):\n",
    "    node_features = weighted_adj_matrix.diagonal().reshape(-1, 1)\n",
    "    edges = np.array(np.nonzero(weighted_adj_matrix))\n",
    "    edge_weights = weighted_adj_matrix[edges.T[:, 0], edges.T[:, 1]]\n",
    "    graph = GraphData(node_features=node_features, edge_index=edges, edge_features=edge_weights.reshape(-1, 1))\n",
    "    return graph"
   ]
  },
  {
   "cell_type": "code",
   "execution_count": 3,
   "metadata": {},
   "outputs": [
    {
     "name": "stdout",
     "output_type": "stream",
     "text": [
      "No of tasks:  138\n"
     ]
    }
   ],
   "source": [
    "TASKS = [\n",
    "'alcoholic', 'aldehydic', 'alliaceous', 'almond', 'amber', 'animal',\n",
    "'anisic', 'apple', 'apricot', 'aromatic', 'balsamic', 'banana', 'beefy',\n",
    "'bergamot', 'berry', 'bitter', 'black currant', 'brandy', 'burnt',\n",
    "'buttery', 'cabbage', 'camphoreous', 'caramellic', 'cedar', 'celery',\n",
    "'chamomile', 'cheesy', 'cherry', 'chocolate', 'cinnamon', 'citrus', 'clean',\n",
    "'clove', 'cocoa', 'coconut', 'coffee', 'cognac', 'cooked', 'cooling',\n",
    "'cortex', 'coumarinic', 'creamy', 'cucumber', 'dairy', 'dry', 'earthy',\n",
    "'ethereal', 'fatty', 'fermented', 'fishy', 'floral', 'fresh', 'fruit skin',\n",
    "'fruity', 'garlic', 'gassy', 'geranium', 'grape', 'grapefruit', 'grassy',\n",
    "'green', 'hawthorn', 'hay', 'hazelnut', 'herbal', 'honey', 'hyacinth',\n",
    "'jasmin', 'juicy', 'ketonic', 'lactonic', 'lavender', 'leafy', 'leathery',\n",
    "'lemon', 'lily', 'malty', 'meaty', 'medicinal', 'melon', 'metallic',\n",
    "'milky', 'mint', 'muguet', 'mushroom', 'musk', 'musty', 'natural', 'nutty',\n",
    "'odorless', 'oily', 'onion', 'orange', 'orangeflower', 'orris', 'ozone',\n",
    "'peach', 'pear', 'phenolic', 'pine', 'pineapple', 'plum', 'popcorn',\n",
    "'potato', 'powdery', 'pungent', 'radish', 'raspberry', 'ripe', 'roasted',\n",
    "'rose', 'rummy', 'sandalwood', 'savory', 'sharp', 'smoky', 'soapy',\n",
    "'solvent', 'sour', 'spicy', 'strawberry', 'sulfurous', 'sweaty', 'sweet',\n",
    "'tea', 'terpenic', 'tobacco', 'tomato', 'tropical', 'vanilla', 'vegetable',\n",
    "'vetiver', 'violet', 'warm', 'waxy', 'weedy', 'winey', 'woody'\n",
    "]\n",
    "print(\"No of tasks: \", len(TASKS))"
   ]
  },
  {
   "cell_type": "code",
   "execution_count": 4,
   "metadata": {},
   "outputs": [],
   "source": [
    "import deepchem as dc\n",
    "from openpom.feat.graph_featurizer import GraphFeaturizer, GraphConvConstants\n",
    "from openpom.utils.data_utils import get_class_imbalance_ratio"
   ]
  },
  {
   "cell_type": "code",
   "execution_count": 5,
   "metadata": {},
   "outputs": [],
   "source": [
    "\n",
    "\n",
    "from deepchem.feat import DMPNNFeaturizer\n",
    "import deepchem as dc\n",
    "\n",
    "\n",
    "featurizer = DMPNNFeaturizer()\n",
    "\n",
    "smiles_field = 'nonStereoSMILES'\n",
    "\n",
    "\n",
    "loader = dc.data.CSVLoader(\n",
    "    tasks=TASKS,  \n",
    "    feature_field=smiles_field,\n",
    "    featurizer=featurizer\n",
    ")\n",
    "dataset = loader.create_dataset(inputs=[\"DMPNNpruned_without hydrogen_curated_GS_LF_merged_4812_QM_cleaned.csv\"])\n",
    "n_tasks = len(dataset.tasks)\n"
   ]
  },
  {
   "cell_type": "code",
   "execution_count": 6,
   "metadata": {},
   "outputs": [
    {
     "data": {
      "text/plain": [
       "4812"
      ]
     },
     "execution_count": 6,
     "metadata": {},
     "output_type": "execute_result"
    }
   ],
   "source": [
    "data = np.load(\"DMPNNpruned_graph_data_cleaned.npz\",allow_pickle=True)\n",
    "mtx_list = data['mtx']\n",
    "qm_graphs = []\n",
    "for mtx in mtx_list:\n",
    "    qm_graphs.append(get_graphs(mtx))\n",
    "QM_X = np.asarray(qm_graphs)\n",
    "QM_X\n",
    "len(QM_X)\n",
    "\n",
    "\n",
    "len(dataset)"
   ]
  },
  {
   "cell_type": "code",
   "execution_count": 7,
   "metadata": {},
   "outputs": [],
   "source": [
    "X = np.asarray([i for i in zip(dataset.X, QM_X)])\n",
    "new_dataset = dc.data.NumpyDataset(X=X, y=dataset.y, n_tasks=138, ids=dataset.ids)"
   ]
  },
  {
   "cell_type": "code",
   "execution_count": 8,
   "metadata": {},
   "outputs": [],
   "source": [
    "\n",
    "\n",
    "randomstratifiedsplitter = dc.splits.RandomStratifiedSplitter()\n",
    "train_dataset, test_dataset, valid_dataset = randomstratifiedsplitter.train_valid_test_split(new_dataset, frac_train = 0.8, frac_valid = 0.1, frac_test = 0.1, seed = 1)"
   ]
  },
  {
   "cell_type": "code",
   "execution_count": 9,
   "metadata": {},
   "outputs": [
    {
     "name": "stdout",
     "output_type": "stream",
     "text": [
      "train_dataset:  3839\n",
      "valid_dataset:  485\n",
      "test_dataset:  488\n"
     ]
    }
   ],
   "source": [
    "print(\"train_dataset: \", len(train_dataset))\n",
    "print(\"valid_dataset: \", len(valid_dataset))\n",
    "print(\"test_dataset: \", len(test_dataset))\n"
   ]
  },
  {
   "cell_type": "code",
   "execution_count": 10,
   "metadata": {},
   "outputs": [],
   "source": [
    "type(train_dataset)\n",
    "import os\n",
    "import deepchem as dc\n",
    "\n",
    "def convert_to_disk_dataset(train_dataset, output_dir):\n",
    "    \"\"\"\n",
    "    Converts a deepchem.data.datasets.NumpyDataset to a deepchem.data.datasets.DiskDataset.\n",
    "    \n",
    "    Parameters:\n",
    "    train_dataset (deepchem.data.datasets.NumpyDataset): The input NumpyDataset to convert.\n",
    "    output_dir (str): The directory to save the DiskDataset.\n",
    "    \n",
    "    Returns:\n",
    "    deepchem.data.datasets.DiskDataset: The converted DiskDataset.\n",
    "    \"\"\"\n",
    "    os.makedirs(output_dir, exist_ok=True)\n",
    "    \n",
    "    X, y, w, ids = train_dataset.X, train_dataset.y, train_dataset.w, train_dataset.ids\n",
    "    \n",
    "    disk_dataset = dc.data.DiskDataset.from_numpy(X, y, w, ids, data_dir=output_dir)\n",
    "    \n",
    "    return disk_dataset\n",
    "output_dir = './train_dataset'\n",
    "train_dataset = convert_to_disk_dataset(train_dataset, output_dir)"
   ]
  },
  {
   "cell_type": "code",
   "execution_count": 11,
   "metadata": {},
   "outputs": [],
   "source": [
    "train_ratios = get_class_imbalance_ratio(train_dataset)\n",
    "assert len(train_ratios) == n_tasks"
   ]
  },
  {
   "cell_type": "code",
   "execution_count": 12,
   "metadata": {},
   "outputs": [],
   "source": [
    "\n",
    "\n",
    "from deepchem.models.optimizers import ExponentialDecay\n",
    "\n",
    "learning_rate = ExponentialDecay(initial_rate=0.005390333, decay_rate=0.777099289, decay_steps=764, staircase=True)\n"
   ]
  },
  {
   "cell_type": "code",
   "execution_count": null,
   "metadata": {},
   "outputs": [],
   "source": [
    "import torch\n",
    "import torch.nn as nn\n",
    "import torch.nn.functional as F\n",
    "from typing import List, Tuple, Union, Optional, Callable, Dict\n",
    "\n",
    "from deepchem.models.losses import Loss, L2Loss\n",
    "from deepchem.models.torch_models.torch_model import TorchModel\n",
    "from deepchem.models.optimizers import Optimizer, LearningRateSchedule\n",
    "\n",
    "from openpom.layers.pom_ffn import CustomPositionwiseFeedForward\n",
    "from openpom.utils.loss import CustomMultiLabelLoss\n",
    "from openpom.utils.optimizer import get_optimizer\n",
    "\n",
    "try:\n",
    "    import dgl\n",
    "    from dgl import DGLGraph\n",
    "    from dgl.nn.pytorch import Set2Set\n",
    "    from openpom.layers.pom_mpnn_gnn import CustomMPNNGNN\n",
    "except (ImportError, ModuleNotFoundError):\n",
    "    raise ImportError('This module requires dgl and dgllife')\n",
    "\n",
    "\n",
    "class MPNNPOM(nn.Module):\n",
    "\n",
    "    def __init__(self,\n",
    "                 n_tasks: int,\n",
    "                 node_out_feats: int = 64,\n",
    "                 edge_hidden_feats: int = 128,\n",
    "                 edge_out_feats: int = 64,\n",
    "                 num_step_message_passing: int = 3,\n",
    "                 mpnn_residual: bool = True,\n",
    "                 message_aggregator_type: str = 'sum',\n",
    "                 mode: str = 'classification',\n",
    "                 number_atom_features: int = 133,\n",
    "                 number_bond_features: int = 14,\n",
    "                 n_classes: int = 1,\n",
    "                 nfeat_name: str = 'x',\n",
    "                 efeat_name: str = 'edge_attr',\n",
    "                 readout_type: str = 'set2set',\n",
    "                 num_step_set2set: int = 6,\n",
    "                 num_layer_set2set: int = 3,\n",
    "                 ffn_hidden_list: List = [300],\n",
    "                 ffn_embeddings: int = 256,\n",
    "                 ffn_activation: str = 'relu',\n",
    "                 ffn_dropout_p: float = 0.0,\n",
    "                 ffn_dropout_at_input_no_act: bool = True):\n",
    "\n",
    "        if mode not in ['classification', 'regression']:\n",
    "            raise ValueError(\n",
    "                \"mode must be either 'classification' or 'regression'\")\n",
    "\n",
    "        super(MPNNPOM, self).__init__()\n",
    "\n",
    "        self.n_tasks: int = n_tasks\n",
    "        self.mode: str = mode\n",
    "        self.n_classes: int = n_classes\n",
    "        self.nfeat_name: str = nfeat_name\n",
    "        self.efeat_name: str = efeat_name\n",
    "        self.readout_type: str = readout_type\n",
    "        self.ffn_embeddings: int = ffn_embeddings\n",
    "        self.ffn_activation: str = ffn_activation\n",
    "        self.ffn_dropout_p: float = ffn_dropout_p\n",
    "\n",
    "        if mode == 'classification':\n",
    "            self.ffn_output: int = n_tasks * n_classes\n",
    "        else:\n",
    "            self.ffn_output = n_tasks\n",
    "\n",
    "        self.mpnn: nn.Module = CustomMPNNGNN(\n",
    "            node_in_feats=number_atom_features,\n",
    "            node_out_feats=node_out_feats,\n",
    "            edge_in_feats=number_bond_features,\n",
    "            edge_hidden_feats=edge_hidden_feats,\n",
    "            num_step_message_passing=num_step_message_passing,\n",
    "            residual=mpnn_residual,\n",
    "            message_aggregator_type=message_aggregator_type)\n",
    "        \n",
    "        QM_node_out_features = 50\n",
    "        \n",
    "        self.QM_mpnn: nn.Module = CustomMPNNGNN(\n",
    "            node_in_feats=1,\n",
    "            node_out_feats=QM_node_out_features,\n",
    "            edge_in_feats=1,\n",
    "            edge_hidden_feats=16,\n",
    "            num_step_message_passing=2,\n",
    "            residual=True,\n",
    "            message_aggregator_type='sum')\n",
    "\n",
    "        self.project_edge_feats: nn.Module = nn.Sequential(\n",
    "            nn.Linear(number_bond_features, edge_out_feats), nn.ReLU())\n",
    "\n",
    "        if self.readout_type == 'set2set':\n",
    "            self.readout_set2set: nn.Module = Set2Set(\n",
    "                input_dim=node_out_feats + edge_out_feats,\n",
    "                n_iters=num_step_set2set,\n",
    "                n_layers=num_layer_set2set)\n",
    "            ffn_input: int = 2 * (node_out_feats + edge_out_feats)\n",
    "        elif self.readout_type == 'global_sum_pooling':\n",
    "            ffn_input = node_out_feats + edge_out_feats\n",
    "        else:\n",
    "            raise Exception(\"readout_type invalid\")\n",
    "\n",
    "        if ffn_embeddings is not None:\n",
    "            d_hidden_list: List = ffn_hidden_list + [ffn_embeddings]\n",
    "\n",
    "        self.ffn: nn.Module = CustomPositionwiseFeedForward(\n",
    "            d_input=ffn_input + QM_node_out_features,\n",
    "            # d_input=ffn_input,\n",
    "            d_hidden_list=d_hidden_list,\n",
    "            d_output=self.ffn_output,\n",
    "            activation=ffn_activation,\n",
    "            dropout_p=ffn_dropout_p,\n",
    "            dropout_at_input_no_act=ffn_dropout_at_input_no_act)\n",
    "\n",
    "    def _readout(self, g: DGLGraph, node_encodings: torch.Tensor,\n",
    "                 edge_feats: torch.Tensor) -> torch.Tensor:\n",
    "\n",
    "        g.ndata['node_emb'] = node_encodings\n",
    "        g.edata['edge_emb'] = self.project_edge_feats(edge_feats)\n",
    "\n",
    "        def message_func(edges) -> Dict:\n",
    "            \"\"\"\n",
    "            The message function to generate messages\n",
    "            along the edges for DGLGraph.send_and_recv()\n",
    "            \"\"\"\n",
    "            src_msg: torch.Tensor = torch.cat(\n",
    "                (edges.src['node_emb'], edges.data['edge_emb']), dim=1)\n",
    "            return {'src_msg': src_msg}\n",
    "\n",
    "        def reduce_func(nodes) -> Dict:\n",
    "            \"\"\"\n",
    "            The reduce function to aggregate the messages\n",
    "            for DGLGraph.send_and_recv()\n",
    "            \"\"\"\n",
    "            src_msg_sum: torch.Tensor = torch.sum(nodes.mailbox['src_msg'],\n",
    "                                                  dim=1)\n",
    "            return {'src_msg_sum': src_msg_sum}\n",
    "\n",
    "        # radius 0 combination to fold atom and bond embeddings together\n",
    "        g.send_and_recv(g.edges(),\n",
    "                        message_func=message_func,\n",
    "                        reduce_func=reduce_func)\n",
    "\n",
    "        if self.readout_type == 'set2set':\n",
    "            batch_mol_hidden_states: torch.Tensor = self.readout_set2set(\n",
    "                g, g.ndata['src_msg_sum'])\n",
    "        elif self.readout_type == 'global_sum_pooling':\n",
    "            batch_mol_hidden_states = dgl.sum_nodes(g, 'src_msg_sum')\n",
    "\n",
    "        # batch_size x (node_out_feats + edge_out_feats)\n",
    "        return batch_mol_hidden_states\n",
    "\n",
    "    def forward(\n",
    "        self, graphs: tuple[DGLGraph]\n",
    "    ) -> Union[tuple[torch.Tensor, torch.Tensor, torch.Tensor], torch.Tensor]:\n",
    "        g, qm_g = graphs\n",
    "        node_feats: torch.Tensor = g.ndata[self.nfeat_name]\n",
    "        edge_feats: torch.Tensor = g.edata[self.efeat_name]\n",
    "\n",
    "        qm_node_feats: torch.Tensor = qm_g.ndata[self.nfeat_name]\n",
    "        qm_edge_feats: torch.Tensor = qm_g.edata[self.efeat_name]\n",
    "\n",
    "        node_encodings: torch.Tensor = self.mpnn(g, node_feats, edge_feats)\n",
    "\n",
    "        QM_encodings: torch.Tensor = self.QM_mpnn(qm_g, qm_node_feats, qm_edge_feats)\n",
    "        qm_g.ndata['node_emb'] = QM_encodings\n",
    "        molecular_QM_encodings = dgl.sum_nodes(qm_g, 'node_emb')\n",
    "        molecular_encodings: torch.Tensor = self._readout(\n",
    "            g, node_encodings, edge_feats)\n",
    "        if self.readout_type == 'global_sum_pooling':\n",
    "            molecular_encodings = F.softmax(molecular_encodings, dim=1)\n",
    "\n",
    "        embeddings: torch.Tensor\n",
    "        out: torch.Tensor\n",
    "        embeddings, out = self.ffn(torch.concat((molecular_encodings, molecular_QM_encodings), dim=1))\n",
    "\n",
    "\n",
    "        if self.mode == 'classification':\n",
    "            if self.n_tasks == 1:\n",
    "                logits: torch.Tensor = out.view(-1, self.n_classes)\n",
    "            else:\n",
    "                logits = out.view(-1, self.n_tasks, self.n_classes)\n",
    "            proba: torch.Tensor = F.sigmoid(\n",
    "                logits)  # (batch, n_tasks, classes)\n",
    "            if self.n_classes == 1:\n",
    "                proba = proba.squeeze(-1)  # (batch, n_tasks)\n",
    "            return proba, logits, embeddings\n",
    "        else:\n",
    "            return out\n",
    "\n",
    "\n",
    "class MPNNPOMModel(TorchModel):\n",
    "\n",
    "    def __init__(self,\n",
    "                 n_tasks: int,\n",
    "                 class_imbalance_ratio: Optional[List] = None,\n",
    "                 loss_aggr_type: str = 'sum',\n",
    "                 learning_rate: Union[float, LearningRateSchedule] = 0.001,\n",
    "                 batch_size: int = 25,\n",
    "                 node_out_feats: int = 64,\n",
    "                 edge_hidden_feats: int = 128,\n",
    "                 edge_out_feats: int = 64,\n",
    "                 num_step_message_passing: int = 3,\n",
    "                 mpnn_residual: bool = True,\n",
    "                 message_aggregator_type: str = 'sum',\n",
    "                 mode: str = 'regression',\n",
    "                 number_atom_features: int = 133,\n",
    "                 number_bond_features: int = 14,\n",
    "                 n_classes: int = 1,\n",
    "                 readout_type: str = 'set2set',\n",
    "                 num_step_set2set: int = 6,\n",
    "                 num_layer_set2set: int = 3,\n",
    "                 ffn_hidden_list: List = [300],\n",
    "                 ffn_embeddings: int = 256,\n",
    "                 ffn_activation: str = 'relu',\n",
    "                 ffn_dropout_p: float = 0.0,\n",
    "                 ffn_dropout_at_input_no_act: bool = True,\n",
    "                 weight_decay: float = 1e-5,\n",
    "                 self_loop: bool = False,\n",
    "                 optimizer_name: str = 'adam',\n",
    "                 device_name: Optional[str] = None,\n",
    "                 **kwargs):\n",
    "        model: nn.Module = MPNNPOM(\n",
    "            n_tasks=n_tasks,\n",
    "            node_out_feats=node_out_feats,\n",
    "            edge_hidden_feats=edge_hidden_feats,\n",
    "            edge_out_feats=edge_out_feats,\n",
    "            num_step_message_passing=num_step_message_passing,\n",
    "            mpnn_residual=mpnn_residual,\n",
    "            message_aggregator_type=message_aggregator_type,\n",
    "            mode=mode,\n",
    "            number_atom_features=number_atom_features,\n",
    "            number_bond_features=number_bond_features,\n",
    "            n_classes=n_classes,\n",
    "            readout_type=readout_type,\n",
    "            num_step_set2set=num_step_set2set,\n",
    "            num_layer_set2set=num_layer_set2set,\n",
    "            ffn_hidden_list=ffn_hidden_list,\n",
    "            ffn_embeddings=ffn_embeddings,\n",
    "            ffn_activation=ffn_activation,\n",
    "            ffn_dropout_p=ffn_dropout_p,\n",
    "            ffn_dropout_at_input_no_act=ffn_dropout_at_input_no_act)\n",
    "\n",
    "        if class_imbalance_ratio and (len(class_imbalance_ratio) != n_tasks):\n",
    "            raise Exception(\"size of class_imbalance_ratio \\\n",
    "                            should be equal to n_tasks\")\n",
    "\n",
    "        if mode == 'regression':\n",
    "            loss: Loss = L2Loss()\n",
    "            output_types: List = ['prediction']\n",
    "        else:\n",
    "            loss = CustomMultiLabelLoss(\n",
    "                class_imbalance_ratio=class_imbalance_ratio,\n",
    "                loss_aggr_type=loss_aggr_type,\n",
    "                device=device_name)\n",
    "            output_types = ['prediction', 'loss', 'embedding']\n",
    "\n",
    "        optimizer: Optimizer = get_optimizer(optimizer_name)\n",
    "        optimizer.learning_rate = learning_rate\n",
    "        if device_name is not None:\n",
    "            device: Optional[torch.device] = torch.device(device_name)\n",
    "        else:\n",
    "            device = None\n",
    "        super(MPNNPOMModel, self).__init__(model,\n",
    "                                           loss=loss,\n",
    "                                           output_types=output_types,\n",
    "                                           optimizer=optimizer,\n",
    "                                           learning_rate=learning_rate,\n",
    "                                           batch_size=batch_size,\n",
    "                                           device=device,\n",
    "                                           **kwargs)\n",
    "\n",
    "        self.weight_decay: float = weight_decay\n",
    "        self._self_loop: bool = self_loop\n",
    "        self.regularization_loss: Callable = self._regularization_loss\n",
    "\n",
    "    def _regularization_loss(self) -> torch.Tensor:\n",
    "        l1_regularization: torch.Tensor = torch.tensor(0., requires_grad=True)\n",
    "        l2_regularization: torch.Tensor = torch.tensor(0., requires_grad=True)\n",
    "        for name, param in self.model.named_parameters():\n",
    "            if 'bias' not in name:\n",
    "                l1_regularization = l1_regularization + torch.norm(param, p=1)\n",
    "                l2_regularization = l2_regularization + torch.norm(param, p=2)\n",
    "        l1_norm: torch.Tensor = self.weight_decay * l1_regularization\n",
    "        l2_norm: torch.Tensor = self.weight_decay * l2_regularization\n",
    "        return l1_norm + l2_norm\n",
    "\n",
    "    def _prepare_batch(self, batch):\n",
    "        inputs, labels, weights = batch\n",
    "        \n",
    "        # If inputs already contains DGLGraph objects\n",
    "        if isinstance(inputs[0][0][0], dgl.DGLGraph):\n",
    "            g1 = dgl.batch([graph for graph, _ in inputs[0]]).to(self.device)\n",
    "            g2 = dgl.batch([graph for _, graph in inputs[0]]).to(self.device)\n",
    "        else:\n",
    "            # Original code for GraphData objects\n",
    "            dgl_graphs1 = [\n",
    "                graphs[0].to_dgl_graph(self_loop=self._self_loop)\n",
    "                for graphs in inputs[0]\n",
    "            ]\n",
    "            g1 = dgl.batch(dgl_graphs1).to(self.device)\n",
    "            \n",
    "            dgl_graphs2 = [\n",
    "                graphs[1].to_dgl_graph(self_loop=self._self_loop)\n",
    "                for graphs in inputs[0]\n",
    "            ]\n",
    "            g2 = dgl.batch(dgl_graphs2).to(self.device)\n",
    "            \n",
    "        _, labels, weights = super(MPNNPOMModel, self)._prepare_batch(\n",
    "            ([], labels, weights))\n",
    "        return (g1, g2), labels, weights\n",
    "\n",
    "\n"
   ]
  },
  {
   "cell_type": "code",
   "execution_count": 14,
   "metadata": {},
   "outputs": [
    {
     "name": "stderr",
     "output_type": "stream",
     "text": [
      "c:\\Users\\sarab\\miniconda3\\envs\\ENV4\\lib\\site-packages\\deepchem\\models\\torch_models\\torch_model.py:1078: FutureWarning: You are using `torch.load` with `weights_only=False` (the current default value), which uses the default pickle module implicitly. It is possible to construct malicious pickle data which will execute arbitrary code during unpickling (See https://github.com/pytorch/pytorch/blob/main/SECURITY.md#untrusted-models for more details). In a future release, the default value for `weights_only` will be flipped to `True`. This limits the functions that could be executed during unpickling. Arbitrary objects will no longer be allowed to be loaded via this mode unless they are explicitly allowlisted by the user via `torch.serialization.add_safe_globals`. We recommend you start setting `weights_only=True` for any use case where you don't have full control of the loaded file. Please open an issue on GitHub for any issues related to this experimental feature.\n",
      "  data = torch.load(checkpoint, map_location=self.device)\n"
     ]
    }
   ],
   "source": [
    "model = MPNNPOMModel(n_tasks = n_tasks,\n",
    "                            batch_size=25,\n",
    "                            learning_rate=learning_rate,\n",
    "                            class_imbalance_ratio = train_ratios,\n",
    "                            loss_aggr_type = 'sum',\n",
    "                            node_out_feats = 25,\n",
    "                            edge_hidden_feats = 75,\n",
    "                            edge_out_feats = 25,\n",
    "                            num_step_message_passing = 5,\n",
    "                            mpnn_residual = True,\n",
    "                            message_aggregator_type = 'max',\n",
    "                            mode = 'classification',\n",
    "                            number_atom_features = 133,\n",
    "                            number_bond_features = 14,\n",
    "                            n_classes = 1,\n",
    "                            readout_type = 'set2set',\n",
    "                            num_step_set2set = 3,\n",
    "                            num_layer_set2set = 2,\n",
    "                            ffn_hidden_list= [512, 512],\n",
    "                            ffn_embeddings = 256,\n",
    "                            ffn_activation = 'relu',\n",
    "                            ffn_dropout_p = 0.154493949,\n",
    "                            ffn_dropout_at_input_no_act = False,\n",
    "                            weight_decay = 1.39e-6,\n",
    "                            self_loop = False,\n",
    "                            optimizer_name = 'adam',\n",
    "                            log_frequency = 32,\n",
    "                            model_dir = './DMPNN+QM_epoch_40/experiments',\n",
    "                            device_name='cpu')\n",
    "\n",
    "model.restore(r\"C:\\Users\\sarab\\OneDrive\\Desktop\\CSIR\\hyperparamter_dmpnn\\DMPNN+QM_epoch_40\\experiments\\checkpoint2.pt\")"
   ]
  },
  {
   "cell_type": "code",
   "execution_count": 15,
   "metadata": {},
   "outputs": [],
   "source": [
    "nb_epoch = 100\n"
   ]
  },
  {
   "cell_type": "code",
   "execution_count": 16,
   "metadata": {},
   "outputs": [],
   "source": [
    "metric = dc.metrics.Metric(dc.metrics.roc_auc_score)"
   ]
  },
  {
   "cell_type": "code",
   "execution_count": 17,
   "metadata": {},
   "outputs": [
    {
     "name": "stderr",
     "output_type": "stream",
     "text": [
      "c:\\Users\\sarab\\miniconda3\\envs\\ENV4\\lib\\site-packages\\deepchem\\feat\\graph_data.py:193: UserWarning: The given NumPy array is not writable, and PyTorch does not support non-writable tensors. This means writing to this tensor will result in undefined behavior. You may want to copy the array to protect its data or make it writable before converting it to a tensor. This type of warning will be suppressed for the rest of this program. (Triggered internally at C:\\actions-runner\\_work\\pytorch\\pytorch\\builder\\windows\\pytorch\\torch\\csrc\\utils\\tensor_numpy.cpp:212.)\n",
      "  g.ndata['x'] = torch.from_numpy(self.node_features).float()\n"
     ]
    }
   ],
   "source": [
    "loss_e = model.evaluate(valid_dataset, [metric])"
   ]
  },
  {
   "cell_type": "code",
   "execution_count": 18,
   "metadata": {},
   "outputs": [
    {
     "data": {
      "text/plain": [
       "{'roc_auc_score': 0.863525506039406}"
      ]
     },
     "execution_count": 18,
     "metadata": {},
     "output_type": "execute_result"
    }
   ],
   "source": [
    "loss_e"
   ]
  },
  {
   "cell_type": "code",
   "execution_count": 19,
   "metadata": {},
   "outputs": [
    {
     "name": "stdout",
     "output_type": "stream",
     "text": [
      "test_score:  0.8591745991307085\n"
     ]
    }
   ],
   "source": [
    "test_scores = model.evaluate(test_dataset, [metric])['roc_auc_score']\n",
    "\n",
    "print(\"test_score: \", test_scores)"
   ]
  },
  {
   "cell_type": "code",
   "execution_count": 20,
   "metadata": {},
   "outputs": [],
   "source": [
    "from rdkit import Chem\n",
    "\n",
    "import pandas as pd"
   ]
  },
  {
   "cell_type": "code",
   "execution_count": 49,
   "metadata": {},
   "outputs": [],
   "source": [
    "INDEX = 100\n",
    "odor = \"camphoreous\""
   ]
  },
  {
   "cell_type": "code",
   "execution_count": 50,
   "metadata": {},
   "outputs": [
    {
     "data": {
      "image/png": "[encoded data removed]",
      "text/plain": [
       "<rdkit.Chem.rdchem.Mol at 0x1c942c14890>"
      ]
     },
     "execution_count": 50,
     "metadata": {},
     "output_type": "execute_result"
    }
   ],
   "source": [
    "Test_SMILES = test_dataset.ids[INDEX]\n",
    "\n",
    "mol = Chem.MolFromSmiles(Test_SMILES)\n",
    "y = Chem.MolToSmiles(mol)\n",
    "mol"
   ]
  },
  {
   "cell_type": "code",
   "execution_count": 51,
   "metadata": {},
   "outputs": [],
   "source": [
    "\n",
    "plt.rcParams[\"figure.figsize\"] = [10, 6]\n",
    "\n",
    "\n",
    "%config InlineBackend.figure_format = 'retina'"
   ]
  },
  {
   "cell_type": "code",
   "execution_count": 52,
   "metadata": {},
   "outputs": [
    {
     "data": {
      "text/plain": [
       "488"
      ]
     },
     "execution_count": 52,
     "metadata": {},
     "output_type": "execute_result"
    }
   ],
   "source": [
    "len(test_dataset)"
   ]
  },
  {
   "cell_type": "code",
   "execution_count": 53,
   "metadata": {},
   "outputs": [
    {
     "name": "stdout",
     "output_type": "stream",
     "text": [
      "[0.0766834  0.03611184 0.04331208 0.26966736 0.06729811 0.18080069\n",
      " 0.1020954  0.00594204 0.02845365 0.16429244 0.07470138 0.00272995\n",
      " 0.15502325 0.01559659 0.02515095 0.19143401 0.05331366 0.01567911\n",
      " 0.44286522 0.11346725 0.05073101 0.07795648 0.385556   0.08061885\n",
      " 0.14309354 0.01127519 0.15067539 0.05079955 0.37975946 0.04137879\n",
      " 0.07831397 0.06828511 0.06235734 0.39832014 0.11308022 0.364784\n",
      " 0.00636962 0.17858319 0.10076392 0.0957188  0.16144918 0.14710526\n",
      " 0.0107063  0.0897809  0.2048513  0.43978265 0.05545996 0.22145286\n",
      " 0.0787877  0.13367856 0.11182151 0.11687677 0.0259915  0.200842\n",
      " 0.02766136 0.0198233  0.04570553 0.02804497 0.028652   0.23368028\n",
      " 0.34729782 0.05245125 0.1519651  0.46235022 0.3038761  0.16024677\n",
      " 0.01539552 0.06294683 0.03101062 0.04178556 0.05694947 0.02156931\n",
      " 0.13388336 0.12510563 0.03867766 0.02733509 0.0874542  0.336679\n",
      " 0.14476424 0.01754877 0.10152842 0.10052305 0.24576122 0.01395384\n",
      " 0.03598038 0.04072704 0.40479976 0.07501879 0.67292386 0.15150793\n",
      " 0.13419005 0.05535632 0.01750431 0.05474167 0.04017923 0.04055944\n",
      " 0.08568404 0.02148642 0.1741728  0.0287485  0.09120214 0.00575283\n",
      " 0.5533632  0.34580505 0.21035561 0.12214369 0.03381048 0.01756705\n",
      " 0.07244505 0.6125625  0.03094262 0.0444005  0.02764071 0.24512443\n",
      " 0.06291442 0.21358776 0.01673167 0.11606992 0.02594683 0.27620846\n",
      " 0.0267679  0.08056275 0.0480154  0.33548334 0.16143008 0.12550077\n",
      " 0.15923768 0.05175546 0.0891057  0.17691651 0.33163637 0.04912719\n",
      " 0.02391928 0.08392167 0.05825728 0.04096752 0.03625789 0.31680918]\n"
     ]
    },
    {
     "data": {
      "image/png": "[encoded data removed]",
      "text/plain": [
       "<Figure size 1000x600 with 1 Axes>"
      ]
     },
     "metadata": {
      "image/png": {
       "height": 584,
       "width": 826
      }
     },
     "output_type": "display_data"
    }
   ],
   "source": [
    "featurizer = DMPNNFeaturizer()\n",
    "featurized_data = featurizer.featurize(Test_SMILES)\n",
    "\n",
    "prediction = model.predict(test_dataset)\n",
    "prediction = prediction[INDEX]\n",
    "print(prediction)\n",
    "\n",
    "prediction_flat = prediction.ravel()  \n",
    "\n",
    "    \n",
    "prediction_df = pd.DataFrame({\n",
    "    'odors': TASKS * 1, \n",
    "    'prediction': prediction_flat\n",
    "}).sort_values(by='prediction', ascending=False)\n",
    "\n",
    "\n",
    "\n",
    "prediction_df[:20].plot.bar(x='odors', y='prediction')\n",
    "\n",
    "\n",
    "prediction = prediction_flat"
   ]
  },
  {
   "cell_type": "code",
   "execution_count": 54,
   "metadata": {},
   "outputs": [],
   "source": [
    "threshold = 0.5\n",
    "inputs_labels = [(prediction > threshold).astype(int)]"
   ]
  },
  {
   "cell_type": "code",
   "execution_count": 55,
   "metadata": {},
   "outputs": [
    {
     "data": {
      "text/plain": [
       "GraphData(node_features=[11, 133], edge_index=[2, 22], edge_features=[22, 14], global_features=[0])"
      ]
     },
     "execution_count": 55,
     "metadata": {},
     "output_type": "execute_result"
    }
   ],
   "source": [
    "featurized_data[0]"
   ]
  },
  {
   "cell_type": "code",
   "execution_count": 56,
   "metadata": {},
   "outputs": [],
   "source": [
    "inputs = [[featurized_data[0]]]"
   ]
  },
  {
   "cell_type": "code",
   "execution_count": 57,
   "metadata": {},
   "outputs": [],
   "source": [
    "inputs_weights = np.array([[1., 1., 1., 1., 1., 1., 1., 1., 1., 1., 1., 1., 1., 1., 1., 1.,\n",
    "        1., 1., 1., 1., 1., 1., 1., 1., 1., 1., 1., 1., 1., 1., 1., 1.,\n",
    "        1., 1., 1., 1., 1., 1., 1., 1., 1., 1., 1., 1., 1., 1., 1., 1.,\n",
    "        1., 1., 1., 1., 1., 1., 1., 1., 1., 1., 1., 1., 1., 1., 1., 1.,\n",
    "        1., 1., 1., 1., 1., 1., 1., 1., 1., 1., 1., 1., 1., 1., 1., 1.,\n",
    "        1., 1., 1., 1., 1., 1., 1., 1., 1., 1., 1., 1., 1., 1., 1., 1.,\n",
    "        1., 1., 1., 1., 1., 1., 1., 1., 1., 1., 1., 1., 1., 1., 1., 1.,\n",
    "        1., 1., 1., 1., 1., 1., 1., 1., 1., 1., 1., 1., 1., 1., 1., 1.,\n",
    "        1., 1., 1., 1., 1., 1., 1., 1., 1., 1.]])"
   ]
  },
  {
   "cell_type": "code",
   "execution_count": 58,
   "metadata": {},
   "outputs": [],
   "source": [
    "inputs=[]\n",
    "\n",
    "first_test_sample = test_dataset.X[INDEX]  \n",
    "mol_graph, qm_graph = first_test_sample\n",
    "\n",
    "\n",
    "inputs = [mol_graph, qm_graph]\n"
   ]
  },
  {
   "cell_type": "code",
   "execution_count": null,
   "metadata": {},
   "outputs": [],
   "source": [
    "import dgl\n",
    "import torch\n",
    "\n",
    "def deepchem_to_dgl(graph, self_loop=False):\n",
    "    \"\"\"Convert DeepChem's GraphData to DGLGraph\"\"\"\n",
    "    src, dst = graph.edge_index  \n",
    "    \n",
    "    \n",
    "    dgl_graph = dgl.graph((src.tolist(), dst.tolist()))\n",
    "    \n",
    "\n",
    "    if self_loop:\n",
    "        dgl_graph = dgl.add_self_loop(dgl_graph)\n",
    "\n",
    "    if hasattr(graph, 'node_features') and graph.node_features is not None:\n",
    "        dgl_graph.ndata['x'] = torch.tensor(graph.node_features, dtype=torch.float32)\n",
    "\n",
    "\n",
    "    if hasattr(graph, 'edge_features') and graph.edge_features is not None:\n",
    "        dgl_graph.edata['edge_attr'] = torch.tensor(graph.edge_features, dtype=torch.float32)\n",
    "\n",
    "    return dgl_graph"
   ]
  },
  {
   "cell_type": "code",
   "execution_count": 60,
   "metadata": {},
   "outputs": [
    {
     "name": "stderr",
     "output_type": "stream",
     "text": [
      "c:\\Users\\sarab\\miniconda3\\envs\\ENV4\\lib\\site-packages\\dgl\\heterograph.py:92: DGLWarning: Recommend creating graphs by `dgl.graph(data)` instead of `dgl.DGLGraph(data)`.\n",
      "  dgl_warning(\n"
     ]
    }
   ],
   "source": [
    "\n",
    "\n",
    "graph = inputs[0]\n",
    "graph\n",
    "dgl_graph = dgl.DGLGraph()\n",
    "dgl_graph.add_nodes(graph.node_features.shape[0])\n",
    "dgl_graph.add_edges(graph.edge_index[0], graph.edge_index[1])\n",
    "dgl_graph.ndata['x'] = torch.tensor(graph.node_features, dtype=torch.float32)\n",
    "    \n",
    "\n",
    "dgl_graph.edata['edge_attr'] = torch.tensor(graph.edge_features, dtype=torch.float32)\n",
    "graph = inputs[1]\n",
    "dgl_qm_graph = dgl.DGLGraph()\n",
    "dgl_qm_graph.add_nodes(graph.node_features.shape[0])\n",
    "dgl_qm_graph.add_edges(graph.edge_index[0], graph.edge_index[1])\n",
    "dgl_qm_graph.ndata['x'] = torch.ones(graph.node_features.shape[0], 1, dtype=torch.float32)\n",
    "dgl_qm_graph.edata['edge_attr'] = torch.tensor(graph.edge_features, dtype=torch.float32)\n",
    "\n",
    "modified_inputs = [[[dgl_graph, dgl_qm_graph]]]"
   ]
  },
  {
   "cell_type": "code",
   "execution_count": 61,
   "metadata": {},
   "outputs": [],
   "source": [
    "\n",
    "\n",
    "g, labels, weights = model._prepare_batch((modified_inputs, inputs_labels, inputs_weights))"
   ]
  },
  {
   "cell_type": "code",
   "execution_count": 62,
   "metadata": {},
   "outputs": [
    {
     "data": {
      "text/plain": [
       "(Graph(num_nodes=11, num_edges=22,\n",
       "       ndata_schemes={'x': Scheme(shape=(133,), dtype=torch.float32)}\n",
       "       edata_schemes={'edge_attr': Scheme(shape=(14,), dtype=torch.float32)}),\n",
       " Graph(num_nodes=11, num_edges=121,\n",
       "       ndata_schemes={'x': Scheme(shape=(1,), dtype=torch.float32)}\n",
       "       edata_schemes={'edge_attr': Scheme(shape=(1,), dtype=torch.float32)}))"
      ]
     },
     "execution_count": 62,
     "metadata": {},
     "output_type": "execute_result"
    }
   ],
   "source": [
    "g"
   ]
  },
  {
   "cell_type": "code",
   "execution_count": 63,
   "metadata": {},
   "outputs": [
    {
     "data": {
      "text/plain": [
       "list"
      ]
     },
     "execution_count": 63,
     "metadata": {},
     "output_type": "execute_result"
    }
   ],
   "source": [
    "type(inputs)"
   ]
  },
  {
   "cell_type": "code",
   "execution_count": 64,
   "metadata": {},
   "outputs": [
    {
     "name": "stdout",
     "output_type": "stream",
     "text": [
      "<class 'numpy.ndarray'>\n",
      "(2, 121)\n",
      "<class 'numpy.ndarray'>\n",
      "(11, 1)\n",
      "<class 'numpy.ndarray'>\n",
      "(121, 1)\n"
     ]
    }
   ],
   "source": [
    "print(type(graph.edge_index))\n",
    "print(graph.edge_index.shape)\n",
    "print(type(graph.node_features))\n",
    "print(graph.node_features.shape)\n",
    "print(type(graph.edge_features))\n",
    "print(graph.edge_features.shape)"
   ]
  },
  {
   "cell_type": "code",
   "execution_count": null,
   "metadata": {},
   "outputs": [
    {
     "name": "stdout",
     "output_type": "stream",
     "text": [
      "Index of the highest value: 21\n",
      "Label: camphoreous\n"
     ]
    }
   ],
   "source": [
    "import numpy as np\n",
    "\n",
    "\n",
    "\n",
    "highest_index = TASKS.index(odor)\n",
    "\n",
    "\"\"\"\n",
    "The integrated gradients method typically requires specifying a target class for which the gradients are computed. \n",
    "In this context, the target class is chosen as the odor label with the highest predicted probability or odor label of interest. \n",
    "This approach helps to focus the explanation on the most relevant prediction made by the model.\n",
    "\"\"\"\n",
    "\n",
    "target = int(highest_index)\n",
    "\n",
    "print(\"Index of the highest value:\", highest_index)\n",
    "print(\"Label:\", TASKS[highest_index])"
   ]
  },
  {
   "cell_type": "code",
   "execution_count": 66,
   "metadata": {},
   "outputs": [],
   "source": [
    "import torch\n",
    "from functools import partial\n",
    "from captum.attr import IntegratedGradients\n",
    "from torch_geometric.utils import from_dgl, to_dgl"
   ]
  },
  {
   "cell_type": "code",
   "execution_count": 67,
   "metadata": {},
   "outputs": [],
   "source": [
    "data = from_dgl(g[0])"
   ]
  },
  {
   "cell_type": "code",
   "execution_count": 68,
   "metadata": {},
   "outputs": [
    {
     "data": {
      "text/plain": [
       "dgl.heterograph.DGLGraph"
      ]
     },
     "execution_count": 68,
     "metadata": {},
     "output_type": "execute_result"
    }
   ],
   "source": [
    "type(g[0])"
   ]
  },
  {
   "cell_type": "code",
   "execution_count": 69,
   "metadata": {},
   "outputs": [],
   "source": [
    "torch.backends.cudnn.enabled=False"
   ]
  },
  {
   "cell_type": "code",
   "execution_count": 70,
   "metadata": {},
   "outputs": [],
   "source": [
    "device = torch.device('cuda:0' if torch.cuda.is_available() else 'cpu')"
   ]
  },
  {
   "cell_type": "code",
   "execution_count": null,
   "metadata": {},
   "outputs": [
    {
     "name": "stdout",
     "output_type": "stream",
     "text": [
      "G1 edge features shape: torch.Size([22, 14])\n",
      "G1 attribution shape: torch.Size([22, 14])\n"
     ]
    }
   ],
   "source": [
    "\n",
    "def model_edge_forward_g1(edge_mask, g_tuple):\n",
    "    g1, g2 = g_tuple  \n",
    "    \n",
    "\n",
    "    g1_copy = g1.clone()\n",
    "    g2_copy = g2.clone()\n",
    "    \n",
    "    g1_copy.edata['edge_attr'] = edge_mask\n",
    "    \n",
    "    \n",
    "    out = model.model((g1_copy, g2_copy))\n",
    "    return out[0]  \n",
    "\n",
    "\n",
    "\n",
    "g1, g2 = g\n",
    "\n",
    "\n",
    "edge_attr_g1 = g1.edata['edge_attr'].requires_grad_(True).to(device)\n",
    "ig_g1 = IntegratedGradients(partial(model_edge_forward_g1, g_tuple=g))\n",
    "print(f\"G1 edge features shape: {edge_attr_g1.shape}\")\n",
    "ig_attr_edge_g1 = ig_g1.attribute(edge_attr_g1, target=target,\n",
    "                           internal_batch_size=g1.num_edges(), n_steps=3)\n",
    "\n",
    "print(f\"G1 attribution shape: {ig_attr_edge_g1.shape}\")\n"
   ]
  },
  {
   "cell_type": "code",
   "execution_count": null,
   "metadata": {},
   "outputs": [
    {
     "name": "stdout",
     "output_type": "stream",
     "text": [
      "G1 node features shape: torch.Size([11, 133])\n",
      "G1 node attribution shape: torch.Size([11, 133])\n"
     ]
    }
   ],
   "source": [
    "\n",
    "def model_node_forward_g1(node_mask, g_tuple):\n",
    "    g1, g2 = g_tuple  \n",
    "    \n",
    "    \n",
    "    g1_copy = g1.clone()\n",
    "    g2_copy = g2.clone()\n",
    "    \n",
    "    \n",
    "    data_g1 = from_dgl(g1_copy)\n",
    "    data_g1.x = node_mask\n",
    "    g1_modified = to_dgl(data_g1)\n",
    "    \n",
    "    \n",
    "    out = model.model((g1_modified, g2_copy))\n",
    "    return out[0]  \n",
    "\n",
    "\n",
    "\n",
    "g1, g2 = g\n",
    "\n",
    "\n",
    "data_g1 = from_dgl(g1)\n",
    "node_mask_g1 = data_g1.x.requires_grad_(True).to(device)\n",
    "ig_g1 = IntegratedGradients(partial(model_node_forward_g1, g_tuple=g))\n",
    "print(f\"G1 node features shape: {node_mask_g1.shape}\")\n",
    "ig_attr_node_g1 = ig_g1.attribute(node_mask_g1, target=target,\n",
    "                           internal_batch_size=g1.num_nodes(), n_steps=3)\n",
    "\n",
    "\n",
    "print(f\"G1 node attribution shape: {ig_attr_node_g1.shape}\")\n"
   ]
  },
  {
   "cell_type": "code",
   "execution_count": 73,
   "metadata": {},
   "outputs": [],
   "source": [
    "from __future__ import print_function\n",
    "from rdkit.Chem.Draw import rdMolDraw2D\n",
    "import io\n",
    "from PIL import Image\n",
    "from collections import defaultdict\n",
    "from rdkit.Chem import rdmolfiles\n",
    "from rdkit.Chem import rdmolops\n",
    "from collections import defaultdict\n",
    "from rdkit.Chem.Draw import rdMolDraw2D"
   ]
  },
  {
   "cell_type": "code",
   "execution_count": null,
   "metadata": {},
   "outputs": [],
   "source": [
    "\n",
    "\n",
    "order = rdmolfiles.CanonicalRankAtoms(mol)\n",
    "mol = rdmolops.RenumberAtoms(mol, order)"
   ]
  },
  {
   "cell_type": "code",
   "execution_count": 75,
   "metadata": {},
   "outputs": [],
   "source": [
    "colors = [(1.0, 0.1, 0.0), (0.3, 1.0, 0.0)]\n",
    "\n",
    "athighlights = defaultdict(list)\n",
    "arads = {}\n",
    "\n",
    "bndhighlights = defaultdict(list)"
   ]
  },
  {
   "cell_type": "code",
   "execution_count": null,
   "metadata": {},
   "outputs": [
    {
     "name": "stdout",
     "output_type": "stream",
     "text": [
      "Number of atoms in mol: 11\n",
      "Length of node_list_g1: 11\n",
      "Number of bonds in mol: 11\n",
      "Length of edge_list_g1: 11\n",
      "CCc1nccnc1C(C)=O INDEX: 100\n"
     ]
    },
    {
     "data": {
      "image/jpeg": "[encoded data removed]",
      "image/png": "[encoded data removed]",
      "text/plain": [
       "<PIL.PngImagePlugin.PngImageFile image mode=RGB size=700x400>"
      ]
     },
     "metadata": {},
     "output_type": "display_data"
    }
   ],
   "source": [
    "\n",
    "if len(ig_attr_node_g1.shape) > 1:\n",
    "    \n",
    "    ig_attr_node_g1 = ig_attr_node_g1.abs().sum(dim=1)\n",
    "else:\n",
    "    \n",
    "    ig_attr_node_g1 = ig_attr_node_g1.abs()\n",
    "\n",
    "\n",
    "if ig_attr_node_g1.max() > 0:\n",
    "    ig_attr_node_g1 /= ig_attr_node_g1.max()\n",
    "node_list_g1 = ig_attr_node_g1.tolist()\n",
    "\n",
    "\n",
    "\n",
    "\n",
    "if len(ig_attr_edge_g1.shape) > 1:\n",
    "    sum_tensor_g1 = ig_attr_edge_g1.abs().sum(dim=1)\n",
    "else:\n",
    "    sum_tensor_g1 = ig_attr_edge_g1.abs()\n",
    "\n",
    "\n",
    "if sum_tensor_g1.shape[0] % 2 == 0:\n",
    "    \n",
    "    ig_attr_edge_g1 = sum_tensor_g1.view(-1, 2)\n",
    "    \n",
    "    ig_attr_edge_g1 = torch.sum(ig_attr_edge_g1, dim=1)\n",
    "else:\n",
    "    print(f\"Warning: G1 has {sum_tensor_g1.shape[0]} edges, which is not an even number. Using raw edge attributions.\")\n",
    "    ig_attr_edge_g1 = sum_tensor_g1\n",
    "\n",
    "\n",
    "if ig_attr_edge_g1.max() > 0:\n",
    "    ig_attr_edge_g1 /= ig_attr_edge_g1.max()\n",
    "edge_list_g1 = ig_attr_edge_g1.tolist()\n",
    "\n",
    "\n",
    "\n",
    "order = rdmolfiles.CanonicalRankAtoms(mol)\n",
    "mol = rdmolops.RenumberAtoms(mol, order)\n",
    "\n",
    "\n",
    "athighlights = defaultdict(list)\n",
    "print(f\"Number of atoms in mol: {mol.GetNumAtoms()}\")\n",
    "print(f\"Length of node_list_g1: {len(node_list_g1)}\")\n",
    "\n",
    "for i, a in enumerate(mol.GetAtoms()):\n",
    "    aid = a.GetIdx()\n",
    "    \n",
    "    \n",
    "    if i < len(node_list_g1):\n",
    "        if node_list_g1[i] == 0:\n",
    "            continue\n",
    "        else:\n",
    "            \n",
    "            trans_atom = node_list_g1[i]\n",
    "            athighlights[aid].append((colors[1][0], colors[1][1], colors[1][2], trans_atom))\n",
    "    else:\n",
    "        \n",
    "        print(f\"Warning: Atom {i} doesn't have a corresponding attribution value\")\n",
    "\n",
    "\n",
    "\n",
    "bndhighlights = defaultdict(list)\n",
    "print(f\"Number of bonds in mol: {mol.GetNumBonds()}\")\n",
    "print(f\"Length of edge_list_g1: {len(edge_list_g1)}\")\n",
    "\n",
    "for i, a in enumerate(mol.GetBonds()):\n",
    "    aid1 = a.GetBeginAtomIdx()\n",
    "    aid2 = a.GetEndAtomIdx()\n",
    "    \n",
    "    \n",
    "    if i < len(edge_list_g1):\n",
    "        bid = mol.GetBondBetweenAtoms(aid1, aid2).GetIdx()\n",
    "        \n",
    "        trans_bnd = edge_list_g1[i]\n",
    "        bndhighlights[bid].append((colors[0][0], colors[0][1], colors[0][2], trans_bnd))\n",
    "    else:\n",
    "        \n",
    "        print(f\"Warning: Bond {i} doesn't have a corresponding attribution value\")\n",
    "\n",
    "\n",
    "d2d = rdMolDraw2D.MolDraw2DCairo(700, 400)\n",
    "d2d.DrawMoleculeWithHighlights(mol, \"\", dict(athighlights), dict(bndhighlights), arads, {})\n",
    "d2d.FinishDrawing()\n",
    "bio = io.BytesIO(d2d.GetDrawingText())\n",
    "mol_img = Image.open(bio)\n",
    "print(test_dataset.ids[INDEX]  , f\"INDEX: {INDEX}\")\n",
    "display(mol_img)\n",
    "\n"
   ]
  }
 ],
 "metadata": {
  "kernelspec": {
   "display_name": "ENV4",
   "language": "python",
   "name": "python3"
  },
  "language_info": {
   "codemirror_mode": {
    "name": "ipython",
    "version": 3
   },
   "file_extension": ".py",
   "mimetype": "text/x-python",
   "name": "python",
   "nbconvert_exporter": "python",
   "pygments_lexer": "ipython3",
   "version": "3.9.19"
  },
  "orig_nbformat": 4
 },
 "nbformat": 4,
 "nbformat_minor": 2
}
