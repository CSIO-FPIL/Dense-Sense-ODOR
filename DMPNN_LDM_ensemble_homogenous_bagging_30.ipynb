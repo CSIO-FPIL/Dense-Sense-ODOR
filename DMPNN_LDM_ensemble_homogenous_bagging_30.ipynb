{
 "cells": [
  {
   "cell_type": "code",
   "execution_count": 1,
   "metadata": {},
   "outputs": [
    {
     "name": "stderr",
     "output_type": "stream",
     "text": [
      "No normalization for SPS. Feature removed!\n",
      "No normalization for AvgIpc. Feature removed!\n"
     ]
    },
    {
     "name": "stdout",
     "output_type": "stream",
     "text": [
      "WARNING:tensorflow:From c:\\Users\\sarab\\miniconda3\\envs\\ENV4\\lib\\site-packages\\tensorflow\\python\\util\\deprecation.py:588: calling function (from tensorflow.python.eager.polymorphic_function.polymorphic_function) with experimental_relax_shapes is deprecated and will be removed in a future version.\n",
      "Instructions for updating:\n",
      "experimental_relax_shapes is deprecated, use reduce_retracing instead\n"
     ]
    },
    {
     "name": "stderr",
     "output_type": "stream",
     "text": [
      "Skipped loading modules with transformers dependency. No module named 'transformers'\n",
      "cannot import name 'HuggingFaceModel' from 'deepchem.models.torch_models' (c:\\Users\\sarab\\miniconda3\\envs\\ENV4\\lib\\site-packages\\deepchem\\models\\torch_models\\__init__.py)\n"
     ]
    }
   ],
   "source": [
    "import numpy as np\n",
    "import deepchem as dc\n",
    "import numpy as np\n",
    "from deepchem.feat import GraphData\n",
    "import pandas as pd\n",
    "from deepchem.feat import DMPNNFeaturizer\n",
    "from datetime import datetime\n",
    "from tqdm import tqdm\n",
    "from sklearn.metrics import roc_auc_score\n"
   ]
  },
  {
   "cell_type": "code",
   "execution_count": 2,
   "metadata": {},
   "outputs": [],
   "source": [
    "def get_graphs(weighted_adj_matrix):\n",
    "    node_features = weighted_adj_matrix.diagonal().reshape(-1, 1)\n",
    "    edges = np.array(np.nonzero(weighted_adj_matrix))\n",
    "    edge_weights = weighted_adj_matrix[edges.T[:, 0], edges.T[:, 1]]\n",
    "    graph = GraphData(node_features=node_features, edge_index=edges, edge_features=edge_weights.reshape(-1, 1))\n",
    "    return graph"
   ]
  },
  {
   "cell_type": "code",
   "execution_count": 3,
   "metadata": {},
   "outputs": [
    {
     "name": "stdout",
     "output_type": "stream",
     "text": [
      "No of tasks:  138\n"
     ]
    }
   ],
   "source": [
    "TASKS = [\n",
    "'alcoholic', 'aldehydic', 'alliaceous', 'almond', 'amber', 'animal',\n",
    "'anisic', 'apple', 'apricot', 'aromatic', 'balsamic', 'banana', 'beefy',\n",
    "'bergamot', 'berry', 'bitter', 'black currant', 'brandy', 'burnt',\n",
    "'buttery', 'cabbage', 'camphoreous', 'caramellic', 'cedar', 'celery',\n",
    "'chamomile', 'cheesy', 'cherry', 'chocolate', 'cinnamon', 'citrus', 'clean',\n",
    "'clove', 'cocoa', 'coconut', 'coffee', 'cognac', 'cooked', 'cooling',\n",
    "'cortex', 'coumarinic', 'creamy', 'cucumber', 'dairy', 'dry', 'earthy',\n",
    "'ethereal', 'fatty', 'fermented', 'fishy', 'floral', 'fresh', 'fruit skin',\n",
    "'fruity', 'garlic', 'gassy', 'geranium', 'grape', 'grapefruit', 'grassy',\n",
    "'green', 'hawthorn', 'hay', 'hazelnut', 'herbal', 'honey', 'hyacinth',\n",
    "'jasmin', 'juicy', 'ketonic', 'lactonic', 'lavender', 'leafy', 'leathery',\n",
    "'lemon', 'lily', 'malty', 'meaty', 'medicinal', 'melon', 'metallic',\n",
    "'milky', 'mint', 'muguet', 'mushroom', 'musk', 'musty', 'natural', 'nutty',\n",
    "'odorless', 'oily', 'onion', 'orange', 'orangeflower', 'orris', 'ozone',\n",
    "'peach', 'pear', 'phenolic', 'pine', 'pineapple', 'plum', 'popcorn',\n",
    "'potato', 'powdery', 'pungent', 'radish', 'raspberry', 'ripe', 'roasted',\n",
    "'rose', 'rummy', 'sandalwood', 'savory', 'sharp', 'smoky', 'soapy',\n",
    "'solvent', 'sour', 'spicy', 'strawberry', 'sulfurous', 'sweaty', 'sweet',\n",
    "'tea', 'terpenic', 'tobacco', 'tomato', 'tropical', 'vanilla', 'vegetable',\n",
    "'vetiver', 'violet', 'warm', 'waxy', 'weedy', 'winey', 'woody'\n",
    "]\n",
    "print(\"No of tasks: \", len(TASKS))"
   ]
  },
  {
   "cell_type": "code",
   "execution_count": 4,
   "metadata": {},
   "outputs": [],
   "source": [
    "import deepchem as dc\n",
    "from openpom.feat.graph_featurizer import GraphFeaturizer, GraphConvConstants\n",
    "from openpom.utils.data_utils import get_class_imbalance_ratio"
   ]
  },
  {
   "cell_type": "code",
   "execution_count": 6,
   "metadata": {},
   "outputs": [],
   "source": [
    "from deepchem.feat import DMPNNFeaturizer\n",
    "import deepchem as dc\n",
    "\n",
    "\n",
    "featurizer = DMPNNFeaturizer()\n",
    "\n",
    "smiles_field = 'nonStereoSMILES'\n",
    "\n",
    "\n",
    "loader = dc.data.CSVLoader(\n",
    "    tasks=TASKS,  \n",
    "    feature_field=smiles_field,\n",
    "    featurizer=featurizer\n",
    ")\n",
    "\n"
   ]
  },
  {
   "cell_type": "code",
   "execution_count": 7,
   "metadata": {},
   "outputs": [
    {
     "data": {
      "text/plain": [
       "4812"
      ]
     },
     "execution_count": 7,
     "metadata": {},
     "output_type": "execute_result"
    }
   ],
   "source": [
    "\n",
    "dataset = loader.create_dataset(inputs=[\"DMPNNpruned_without hydrogen_curated_GS_LF_merged_4812_QM_cleaned.csv\"])\n",
    "n_tasks = len(dataset.tasks)\n",
    "dataset.X\n",
    "len(dataset.X)\n"
   ]
  },
  {
   "cell_type": "code",
   "execution_count": 8,
   "metadata": {},
   "outputs": [
    {
     "data": {
      "text/plain": [
       "4812"
      ]
     },
     "execution_count": 8,
     "metadata": {},
     "output_type": "execute_result"
    }
   ],
   "source": [
    "data = np.load(\"DMPNNpruned_graph_data_cleaned.npz\",allow_pickle=True)\n",
    "mtx_list = data['mtx']\n",
    "qm_graphs = []\n",
    "for mtx in mtx_list:\n",
    "    qm_graphs.append(get_graphs(mtx))\n",
    "QM_X = np.asarray(qm_graphs)\n",
    "QM_X\n",
    "len(QM_X)\n"
   ]
  },
  {
   "cell_type": "code",
   "execution_count": 9,
   "metadata": {},
   "outputs": [],
   "source": [
    "X = np.asarray([i for i in zip(dataset.X, QM_X)])\n",
    "new_dataset = dc.data.NumpyDataset(X=X, y=dataset.y, n_tasks=138, ids=dataset.ids)"
   ]
  },
  {
   "cell_type": "code",
   "execution_count": 10,
   "metadata": {},
   "outputs": [
    {
     "data": {
      "text/plain": [
       "<NumpyDataset X.shape: (4812, 2), y.shape: (4812, 138), w.shape: (4812, 1), task_names: [  0   1   2 ... 135 136 137]>"
      ]
     },
     "execution_count": 10,
     "metadata": {},
     "output_type": "execute_result"
    }
   ],
   "source": [
    "new_dataset"
   ]
  },
  {
   "cell_type": "code",
   "execution_count": 14,
   "metadata": {},
   "outputs": [
    {
     "data": {
      "text/plain": [
       "<NumpyDataset X.shape: (4812, 2), y.shape: (4812, 138), w.shape: (4812, 1), task_names: [  0   1   2 ... 135 136 137]>"
      ]
     },
     "execution_count": 14,
     "metadata": {},
     "output_type": "execute_result"
    }
   ],
   "source": [
    "new_dataset"
   ]
  },
  {
   "cell_type": "code",
   "execution_count": null,
   "metadata": {},
   "outputs": [],
   "source": [
    "\n",
    "\n",
    "randomstratifiedsplitter = dc.splits.RandomStratifiedSplitter()\n",
    "train_dataset, test_dataset, valid_dataset = randomstratifiedsplitter.train_valid_test_split(new_dataset, frac_train = 0.8, frac_valid = 0.1, frac_test = 0.1, seed = 1)"
   ]
  },
  {
   "cell_type": "code",
   "execution_count": 16,
   "metadata": {},
   "outputs": [
    {
     "name": "stdout",
     "output_type": "stream",
     "text": [
      "3839\n",
      "485\n",
      "488\n"
     ]
    }
   ],
   "source": [
    "print(len(train_dataset))\n",
    "print(len(valid_dataset))\n",
    "print(len(test_dataset))"
   ]
  },
  {
   "cell_type": "code",
   "execution_count": 17,
   "metadata": {},
   "outputs": [
    {
     "data": {
      "text/plain": [
       "<DiskDataset X.shape: (3839, 2), y.shape: (3839, 138), w.shape: (3839, 1), task_names: ['alcoholic' 'aldehydic' 'alliaceous' ... 'weedy' 'winey' 'woody']>"
      ]
     },
     "execution_count": 17,
     "metadata": {},
     "output_type": "execute_result"
    }
   ],
   "source": [
    "dc.data.DiskDataset.from_numpy(X=train_dataset.X,\n",
    "                    y= train_dataset.y,\n",
    "                    w= train_dataset.w,\n",
    "                    ids=train_dataset.ids,\n",
    "                    tasks=TASKS,\n",
    "                    data_dir=\"./train_split\")"
   ]
  },
  {
   "cell_type": "code",
   "execution_count": 18,
   "metadata": {},
   "outputs": [
    {
     "data": {
      "text/plain": [
       "<DiskDataset X.shape: (485, 2), y.shape: (485, 138), w.shape: (485, 1), ids: ['CCC(=O)C(=O)O' 'O=C(O)CCCCC(=O)O' 'O=C(O)c1ccccc1' ...\n",
       " 'CC(C)C(NC(=O)CCC(N)C(=O)O)C(=O)NCC(=O)O' 'CCC1SC(CC(C)C)=NC1C'\n",
       " 'O=c1[nH]cnc2c1ncn2C1OC(COP(=O)(O)O)C(O)C1O'], task_names: ['alcoholic' 'aldehydic' 'alliaceous' ... 'weedy' 'winey' 'woody']>"
      ]
     },
     "execution_count": 18,
     "metadata": {},
     "output_type": "execute_result"
    }
   ],
   "source": [
    "dc.data.DiskDataset.from_numpy(X=valid_dataset.X,\n",
    "                    y= valid_dataset.y,\n",
    "                    w= valid_dataset.w,\n",
    "                    ids=valid_dataset.ids,\n",
    "                    tasks=TASKS,\n",
    "                    data_dir=\"./valid_split\")"
   ]
  },
  {
   "cell_type": "code",
   "execution_count": 19,
   "metadata": {},
   "outputs": [
    {
     "data": {
      "text/plain": [
       "<DiskDataset X.shape: (488, 2), y.shape: (488, 138), w.shape: (488, 1), ids: ['CC(O)CN' 'O=Cc1ccccc1' 'CC(=O)C(C)=O' ... 'CCCCCCCC(C)=NO'\n",
       " 'CCCC=CC1OCC(O)CO1' 'CC(C)C1CCC2CC(=O)CC(C)C2(C)C1'], task_names: ['alcoholic' 'aldehydic' 'alliaceous' ... 'weedy' 'winey' 'woody']>"
      ]
     },
     "execution_count": 19,
     "metadata": {},
     "output_type": "execute_result"
    }
   ],
   "source": [
    "dc.data.DiskDataset.from_numpy(X=test_dataset.X,\n",
    "                    y= test_dataset.y,\n",
    "                    w= test_dataset.w,\n",
    "                    ids=test_dataset.ids,\n",
    "                    tasks=TASKS,\n",
    "                    data_dir=\"./test_split\")"
   ]
  },
  {
   "cell_type": "code",
   "execution_count": null,
   "metadata": {},
   "outputs": [],
   "source": []
  },
  {
   "cell_type": "code",
   "execution_count": null,
   "metadata": {},
   "outputs": [],
   "source": [
    "import torch\n",
    "import torch.nn as nn\n",
    "import torch.nn.functional as F\n",
    "from typing import List, Tuple, Union, Optional, Callable, Dict\n",
    "\n",
    "from deepchem.models.losses import Loss, L2Loss\n",
    "from deepchem.models.torch_models.torch_model import TorchModel\n",
    "from deepchem.models.optimizers import Optimizer, LearningRateSchedule\n",
    "\n",
    "from openpom.layers.pom_ffn import CustomPositionwiseFeedForward\n",
    "from openpom.utils.loss import CustomMultiLabelLoss\n",
    "from openpom.utils.optimizer import get_optimizer\n",
    "\n",
    "try:\n",
    "    import dgl\n",
    "    from dgl import DGLGraph\n",
    "    from dgl.nn.pytorch import Set2Set\n",
    "    from openpom.layers.pom_mpnn_gnn import CustomMPNNGNN\n",
    "except (ImportError, ModuleNotFoundError):\n",
    "    raise ImportError('This module requires dgl and dgllife')\n",
    "\n",
    "\n",
    "class MPNNPOM(nn.Module):\n",
    "\n",
    "    def __init__(self,\n",
    "                 n_tasks: int,\n",
    "                 node_out_feats: int = 64,\n",
    "                 edge_hidden_feats: int = 128,\n",
    "                 edge_out_feats: int = 64,\n",
    "                 num_step_message_passing: int = 3,\n",
    "                 mpnn_residual: bool = True,\n",
    "                 message_aggregator_type: str = 'sum',\n",
    "                 mode: str = 'classification',\n",
    "                 number_atom_features: int = 133,\n",
    "                 number_bond_features: int = 14,\n",
    "                 n_classes: int = 1,\n",
    "                 nfeat_name: str = 'x',\n",
    "                 efeat_name: str = 'edge_attr',\n",
    "                 readout_type: str = 'set2set',\n",
    "                 num_step_set2set: int = 6,\n",
    "                 num_layer_set2set: int = 3,\n",
    "                 ffn_hidden_list: List = [300],\n",
    "                 ffn_embeddings: int = 256,\n",
    "                 ffn_activation: str = 'relu',\n",
    "                 ffn_dropout_p: float = 0.0,\n",
    "                 ffn_dropout_at_input_no_act: bool = True):\n",
    "\n",
    "        if mode not in ['classification', 'regression']:\n",
    "            raise ValueError(\n",
    "                \"mode must be either 'classification' or 'regression'\")\n",
    "\n",
    "        super(MPNNPOM, self).__init__()\n",
    "\n",
    "        self.n_tasks: int = n_tasks\n",
    "        self.mode: str = mode\n",
    "        self.n_classes: int = n_classes\n",
    "        self.nfeat_name: str = nfeat_name\n",
    "        self.efeat_name: str = efeat_name\n",
    "        self.readout_type: str = readout_type\n",
    "        self.ffn_embeddings: int = ffn_embeddings\n",
    "        self.ffn_activation: str = ffn_activation\n",
    "        self.ffn_dropout_p: float = ffn_dropout_p\n",
    "\n",
    "        if mode == 'classification':\n",
    "            self.ffn_output: int = n_tasks * n_classes\n",
    "        else:\n",
    "            self.ffn_output = n_tasks\n",
    "\n",
    "        self.mpnn: nn.Module = CustomMPNNGNN(\n",
    "            node_in_feats=number_atom_features,\n",
    "            node_out_feats=node_out_feats,\n",
    "            edge_in_feats=number_bond_features,\n",
    "            edge_hidden_feats=edge_hidden_feats,\n",
    "            num_step_message_passing=num_step_message_passing,\n",
    "            residual=mpnn_residual,\n",
    "            message_aggregator_type=message_aggregator_type)\n",
    "        \n",
    "        QM_node_out_features = 50\n",
    "        \n",
    "        self.QM_mpnn: nn.Module = CustomMPNNGNN(\n",
    "            node_in_feats=1,\n",
    "            node_out_feats=QM_node_out_features,\n",
    "            edge_in_feats=1,\n",
    "            edge_hidden_feats=16,\n",
    "            num_step_message_passing=2,\n",
    "            residual=True,\n",
    "            message_aggregator_type='sum')\n",
    "\n",
    "        self.project_edge_feats: nn.Module = nn.Sequential(\n",
    "            nn.Linear(number_bond_features, edge_out_feats), nn.ReLU())\n",
    "\n",
    "        if self.readout_type == 'set2set':\n",
    "            self.readout_set2set: nn.Module = Set2Set(\n",
    "                input_dim=node_out_feats + edge_out_feats,\n",
    "                n_iters=num_step_set2set,\n",
    "                n_layers=num_layer_set2set)\n",
    "            ffn_input: int = 2 * (node_out_feats + edge_out_feats)\n",
    "        elif self.readout_type == 'global_sum_pooling':\n",
    "            ffn_input = node_out_feats + edge_out_feats\n",
    "        else:\n",
    "            raise Exception(\"readout_type invalid\")\n",
    "\n",
    "        if ffn_embeddings is not None:\n",
    "            d_hidden_list: List = ffn_hidden_list + [ffn_embeddings]\n",
    "\n",
    "        self.ffn: nn.Module = CustomPositionwiseFeedForward(\n",
    "            d_input=ffn_input + QM_node_out_features,\n",
    "            \n",
    "            d_hidden_list=d_hidden_list,\n",
    "            d_output=self.ffn_output,\n",
    "            activation=ffn_activation,\n",
    "            dropout_p=ffn_dropout_p,\n",
    "            dropout_at_input_no_act=ffn_dropout_at_input_no_act)\n",
    "\n",
    "    def _readout(self, g: DGLGraph, node_encodings: torch.Tensor,\n",
    "                 edge_feats: torch.Tensor) -> torch.Tensor:\n",
    "\n",
    "        g.ndata['node_emb'] = node_encodings\n",
    "        g.edata['edge_emb'] = self.project_edge_feats(edge_feats)\n",
    "\n",
    "        def message_func(edges) -> Dict:\n",
    "            \"\"\"\n",
    "            The message function to generate messages\n",
    "            along the edges for DGLGraph.send_and_recv()\n",
    "            \"\"\"\n",
    "            src_msg: torch.Tensor = torch.cat(\n",
    "                (edges.src['node_emb'], edges.data['edge_emb']), dim=1)\n",
    "            return {'src_msg': src_msg}\n",
    "\n",
    "        def reduce_func(nodes) -> Dict:\n",
    "            \"\"\"\n",
    "            The reduce function to aggregate the messages\n",
    "            for DGLGraph.send_and_recv()\n",
    "            \"\"\"\n",
    "            src_msg_sum: torch.Tensor = torch.sum(nodes.mailbox['src_msg'],\n",
    "                                                  dim=1)\n",
    "            return {'src_msg_sum': src_msg_sum}\n",
    "\n",
    "        \n",
    "        g.send_and_recv(g.edges(),\n",
    "                        message_func=message_func,\n",
    "                        reduce_func=reduce_func)\n",
    "\n",
    "        if self.readout_type == 'set2set':\n",
    "            batch_mol_hidden_states: torch.Tensor = self.readout_set2set(\n",
    "                g, g.ndata['src_msg_sum'])\n",
    "        elif self.readout_type == 'global_sum_pooling':\n",
    "            batch_mol_hidden_states = dgl.sum_nodes(g, 'src_msg_sum')\n",
    "\n",
    "        \n",
    "        return batch_mol_hidden_states\n",
    "\n",
    "    def forward(\n",
    "        self, graphs: tuple[DGLGraph]\n",
    "    ) -> Union[tuple[torch.Tensor, torch.Tensor, torch.Tensor], torch.Tensor]:\n",
    "        g, qm_g = graphs\n",
    "        node_feats: torch.Tensor = g.ndata[self.nfeat_name]\n",
    "        edge_feats: torch.Tensor = g.edata[self.efeat_name]\n",
    "\n",
    "        qm_node_feats: torch.Tensor = qm_g.ndata[self.nfeat_name]\n",
    "        qm_edge_feats: torch.Tensor = qm_g.edata[self.efeat_name]\n",
    "\n",
    "        node_encodings: torch.Tensor = self.mpnn(g, node_feats, edge_feats)\n",
    "\n",
    "        QM_encodings: torch.Tensor = self.QM_mpnn(qm_g, qm_node_feats, qm_edge_feats)\n",
    "        qm_g.ndata['node_emb'] = QM_encodings\n",
    "        molecular_QM_encodings = dgl.sum_nodes(qm_g, 'node_emb')\n",
    "        molecular_encodings: torch.Tensor = self._readout(\n",
    "            g, node_encodings, edge_feats)\n",
    "        if self.readout_type == 'global_sum_pooling':\n",
    "            molecular_encodings = F.softmax(molecular_encodings, dim=1)\n",
    "\n",
    "        embeddings: torch.Tensor\n",
    "        out: torch.Tensor\n",
    "        embeddings, out = self.ffn(torch.concat((molecular_encodings, molecular_QM_encodings), dim=1))\n",
    "        \n",
    "        \n",
    "\n",
    "        if self.mode == 'classification':\n",
    "            if self.n_tasks == 1:\n",
    "                logits: torch.Tensor = out.view(-1, self.n_classes)\n",
    "            else:\n",
    "                logits = out.view(-1, self.n_tasks, self.n_classes)\n",
    "            proba: torch.Tensor = F.sigmoid(\n",
    "                logits)  \n",
    "            if self.n_classes == 1:\n",
    "                proba = proba.squeeze(-1)  \n",
    "            return proba, logits, embeddings\n",
    "        else:\n",
    "            return out\n",
    "\n",
    "\n",
    "class MPNNPOMModel(TorchModel):\n",
    "\n",
    "    def __init__(self,\n",
    "                 n_tasks: int,\n",
    "                 class_imbalance_ratio: Optional[List] = None,\n",
    "                 loss_aggr_type: str = 'sum',\n",
    "                 learning_rate: Union[float, LearningRateSchedule] = 0.001,\n",
    "                 batch_size: int = 25,\n",
    "                 node_out_feats: int = 64,\n",
    "                 edge_hidden_feats: int = 128,\n",
    "                 edge_out_feats: int = 64,\n",
    "                 num_step_message_passing: int = 3,\n",
    "                 mpnn_residual: bool = True,\n",
    "                 message_aggregator_type: str = 'sum',\n",
    "                 mode: str = 'regression',\n",
    "                 number_atom_features: int = 133,\n",
    "                 number_bond_features: int = 14,\n",
    "                 n_classes: int = 1,\n",
    "                 readout_type: str = 'set2set',\n",
    "                 num_step_set2set: int = 6,\n",
    "                 num_layer_set2set: int = 3,\n",
    "                 ffn_hidden_list: List = [300],\n",
    "                 ffn_embeddings: int = 256,\n",
    "                 ffn_activation: str = 'relu',\n",
    "                 ffn_dropout_p: float = 0.0,\n",
    "                 ffn_dropout_at_input_no_act: bool = True,\n",
    "                 weight_decay: float = 1e-5,\n",
    "                 self_loop: bool = False,\n",
    "                 optimizer_name: str = 'adam',\n",
    "                 device_name: Optional[str] = None,\n",
    "                 **kwargs):\n",
    "        model: nn.Module = MPNNPOM(\n",
    "            n_tasks=n_tasks,\n",
    "            node_out_feats=node_out_feats,\n",
    "            edge_hidden_feats=edge_hidden_feats,\n",
    "            edge_out_feats=edge_out_feats,\n",
    "            num_step_message_passing=num_step_message_passing,\n",
    "            mpnn_residual=mpnn_residual,\n",
    "            message_aggregator_type=message_aggregator_type,\n",
    "            mode=mode,\n",
    "            number_atom_features=number_atom_features,\n",
    "            number_bond_features=number_bond_features,\n",
    "            n_classes=n_classes,\n",
    "            readout_type=readout_type,\n",
    "            num_step_set2set=num_step_set2set,\n",
    "            num_layer_set2set=num_layer_set2set,\n",
    "            ffn_hidden_list=ffn_hidden_list,\n",
    "            ffn_embeddings=ffn_embeddings,\n",
    "            ffn_activation=ffn_activation,\n",
    "            ffn_dropout_p=ffn_dropout_p,\n",
    "            ffn_dropout_at_input_no_act=ffn_dropout_at_input_no_act)\n",
    "\n",
    "        if class_imbalance_ratio and (len(class_imbalance_ratio) != n_tasks):\n",
    "            raise Exception(\"size of class_imbalance_ratio \\\n",
    "                            should be equal to n_tasks\")\n",
    "\n",
    "        if mode == 'regression':\n",
    "            loss: Loss = L2Loss()\n",
    "            output_types: List = ['prediction']\n",
    "        else:\n",
    "            loss = CustomMultiLabelLoss(\n",
    "                class_imbalance_ratio=class_imbalance_ratio,\n",
    "                loss_aggr_type=loss_aggr_type,\n",
    "                device=device_name)\n",
    "            output_types = ['prediction', 'loss', 'embedding']\n",
    "\n",
    "        optimizer: Optimizer = get_optimizer(optimizer_name)\n",
    "        optimizer.learning_rate = learning_rate\n",
    "        if device_name is not None:\n",
    "            device: Optional[torch.device] = torch.device(device_name)\n",
    "        else:\n",
    "            device = None\n",
    "        super(MPNNPOMModel, self).__init__(model,\n",
    "                                           loss=loss,\n",
    "                                           output_types=output_types,\n",
    "                                           optimizer=optimizer,\n",
    "                                           learning_rate=learning_rate,\n",
    "                                           batch_size=batch_size,\n",
    "                                           device=device,\n",
    "                                           **kwargs)\n",
    "\n",
    "        self.weight_decay: float = weight_decay\n",
    "        self._self_loop: bool = self_loop\n",
    "        self.regularization_loss: Callable = self._regularization_loss\n",
    "\n",
    "    def _regularization_loss(self) -> torch.Tensor:\n",
    "        l1_regularization: torch.Tensor = torch.tensor(0., requires_grad=True)\n",
    "        l2_regularization: torch.Tensor = torch.tensor(0., requires_grad=True)\n",
    "        for name, param in self.model.named_parameters():\n",
    "            if 'bias' not in name:\n",
    "                l1_regularization = l1_regularization + torch.norm(param, p=1)\n",
    "                l2_regularization = l2_regularization + torch.norm(param, p=2)\n",
    "        l1_norm: torch.Tensor = self.weight_decay * l1_regularization\n",
    "        l2_norm: torch.Tensor = self.weight_decay * l2_regularization\n",
    "        return l1_norm + l2_norm\n",
    "\n",
    "    def _prepare_batch(\n",
    "        self, batch: Tuple[List, List, List]\n",
    "    ) -> Tuple[DGLGraph, List[torch.Tensor], List[torch.Tensor]]:\n",
    "        inputs: List\n",
    "        labels: List\n",
    "        weights: List\n",
    "\n",
    "        inputs, labels, weights = batch\n",
    "        dgl_graphs1: List[DGLGraph] = [\n",
    "            graphs[0].to_dgl_graph(self_loop=self._self_loop)\n",
    "            for graphs in inputs[0]\n",
    "        ]\n",
    "        g1: DGLGraph = dgl.batch(dgl_graphs1).to(self.device)\n",
    "\n",
    "        dgl_graphs2: List[DGLGraph] = [\n",
    "            graphs[1].to_dgl_graph(self_loop=self._self_loop)\n",
    "            for graphs in inputs[0]\n",
    "        ]\n",
    "        g2: DGLGraph = dgl.batch(dgl_graphs2).to(self.device)\n",
    "        _, labels, weights = super(MPNNPOMModel, self)._prepare_batch(\n",
    "            ([], labels, weights))\n",
    "        return (g1, g2), labels, weights\n"
   ]
  },
  {
   "cell_type": "code",
   "execution_count": null,
   "metadata": {},
   "outputs": [],
   "source": [
    "type(train_dataset)\n",
    "import os\n",
    "import deepchem as dc\n",
    "\n",
    "def convert_to_disk_dataset(train_dataset, output_dir):\n",
    "    \"\"\"\n",
    "    Converts a deepchem.data.datasets.NumpyDataset to a deepchem.data.datasets.DiskDataset.\n",
    "    \n",
    "    Parameters:\n",
    "    train_dataset (deepchem.data.datasets.NumpyDataset): The input NumpyDataset to convert.\n",
    "    output_dir (str): The directory to save the DiskDataset.\n",
    "    \n",
    "    Returns:\n",
    "    deepchem.data.datasets.DiskDataset: The converted DiskDataset.\n",
    "    \"\"\"\n",
    "    os.makedirs(output_dir, exist_ok=True)\n",
    "    \n",
    "    X, y, w, ids = train_dataset.X, train_dataset.y, train_dataset.w, train_dataset.ids\n",
    "    \n",
    "    disk_dataset = dc.data.DiskDataset.from_numpy(X, y, w, ids, data_dir=output_dir)\n",
    "    \n",
    "    return disk_dataset\n",
    "\n",
    "output_dir = r'C:\\Users\\sarab\\OneDrive\\Desktop\\hyperparamter_dmpnn\\train_dataset'\n",
    "\n",
    "train_dataset = convert_to_disk_dataset(train_dataset, output_dir)"
   ]
  },
  {
   "cell_type": "code",
   "execution_count": 22,
   "metadata": {},
   "outputs": [],
   "source": [
    "train_ratios = get_class_imbalance_ratio(train_dataset)\n",
    "assert len(train_ratios) == n_tasks"
   ]
  },
  {
   "cell_type": "code",
   "execution_count": null,
   "metadata": {},
   "outputs": [],
   "source": [
    "from deepchem.models.optimizers import ExponentialDecay\n",
    "\n",
    "learning_rate = ExponentialDecay(initial_rate=0.005390333, decay_rate=0.777099289, decay_steps=764, staircase=True)\n"
   ]
  },
  {
   "cell_type": "code",
   "execution_count": null,
   "metadata": {},
   "outputs": [],
   "source": []
  },
  {
   "cell_type": "code",
   "execution_count": 25,
   "metadata": {},
   "outputs": [],
   "source": [
    "import os\n",
    "import gc\n",
    "nb_epoch = 40\n",
    "n_models = 30"
   ]
  },
  {
   "cell_type": "code",
   "execution_count": 26,
   "metadata": {},
   "outputs": [],
   "source": [
    "metric = dc.metrics.Metric(dc.metrics.roc_auc_score)"
   ]
  },
  {
   "cell_type": "code",
   "execution_count": null,
   "metadata": {},
   "outputs": [
    {
     "name": "stderr",
     "output_type": "stream",
     "text": [
      "  0%|          | 0/30 [00:00<?, ?it/s]c:\\Users\\sarab\\miniconda3\\envs\\ENV4\\lib\\site-packages\\deepchem\\feat\\graph_data.py:193: UserWarning: The given NumPy array is not writable, and PyTorch does not support non-writable tensors. This means writing to this tensor will result in undefined behavior. You may want to copy the array to protect its data or make it writable before converting it to a tensor. This type of warning will be suppressed for the rest of this program. (Triggered internally at C:\\actions-runner\\_work\\pytorch\\pytorch\\builder\\windows\\pytorch\\torch\\csrc\\utils\\tensor_numpy.cpp:212.)\n",
      "  g.ndata['x'] = torch.from_numpy(self.node_features).float()\n"
     ]
    },
    {
     "name": "stdout",
     "output_type": "stream",
     "text": [
      "loss = 2.1997361183166504; train_scores = 0.9246231844282585; valid_scores = 0.8669820538385522;test_scores = 0.8603067339965504; time_taken = 0:28:27.818599\n"
     ]
    },
    {
     "name": "stderr",
     "output_type": "stream",
     "text": [
      "  3%|▎         | 1/30 [29:01<14:01:37, 1741.30s/it]"
     ]
    },
    {
     "name": "stdout",
     "output_type": "stream",
     "text": [
      "loss = 2.2623543739318848; train_scores = 0.9261822611206043; valid_scores = 0.8652615635470537;test_scores = 0.8601949097178339; time_taken = 0:28:21.638005\n"
     ]
    },
    {
     "name": "stderr",
     "output_type": "stream",
     "text": [
      "  7%|▋         | 2/30 [57:56<13:30:51, 1737.54s/it]"
     ]
    },
    {
     "name": "stdout",
     "output_type": "stream",
     "text": [
      "loss = 2.0961427688598633; train_scores = 0.921224529213588; valid_scores = 0.8654401437727451;test_scores = 0.8593207077661386; time_taken = 0:28:26.507310\n"
     ]
    },
    {
     "name": "stderr",
     "output_type": "stream",
     "text": [
      " 10%|█         | 3/30 [1:26:56<13:02:23, 1738.63s/it]"
     ]
    },
    {
     "name": "stdout",
     "output_type": "stream",
     "text": [
      "loss = 2.143005847930908; train_scores = 0.9212723576322631; valid_scores = 0.8672218179750851;test_scores = 0.8623548952299235; time_taken = 0:28:25.722733\n"
     ]
    },
    {
     "name": "stderr",
     "output_type": "stream",
     "text": [
      " 13%|█▎        | 4/30 [1:55:55<12:33:30, 1738.86s/it]"
     ]
    },
    {
     "name": "stdout",
     "output_type": "stream",
     "text": [
      "loss = 2.2353599071502686; train_scores = 0.9247692673999802; valid_scores = 0.8684840542694527;test_scores = 0.858163086443706; time_taken = 0:28:44.034146\n"
     ]
    },
    {
     "name": "stderr",
     "output_type": "stream",
     "text": [
      " 17%|█▋        | 5/30 [2:25:13<12:07:23, 1745.73s/it]"
     ]
    },
    {
     "name": "stdout",
     "output_type": "stream",
     "text": [
      "loss = 2.219641923904419; train_scores = 0.9164431005114937; valid_scores = 0.8598636852385476;test_scores = 0.8599251115198695; time_taken = 0:30:33.428635\n"
     ]
    },
    {
     "name": "stderr",
     "output_type": "stream",
     "text": [
      " 20%|██        | 6/30 [2:56:20<11:54:46, 1786.93s/it]"
     ]
    },
    {
     "name": "stdout",
     "output_type": "stream",
     "text": [
      "loss = 2.202031135559082; train_scores = 0.9268608664693063; valid_scores = 0.8718692326548455;test_scores = 0.8645345560925115; time_taken = 0:29:41.123034\n"
     ]
    },
    {
     "name": "stderr",
     "output_type": "stream",
     "text": [
      " 23%|██▎       | 7/30 [3:26:35<11:28:31, 1796.16s/it]"
     ]
    },
    {
     "name": "stdout",
     "output_type": "stream",
     "text": [
      "loss = 2.1641716957092285; train_scores = 0.9206997096024874; valid_scores = 0.862757380042587;test_scores = 0.8563479318190744; time_taken = 0:30:17.470500\n"
     ]
    },
    {
     "name": "stderr",
     "output_type": "stream",
     "text": [
      " 27%|██▋       | 8/30 [3:57:27<11:05:10, 1814.10s/it]"
     ]
    },
    {
     "name": "stdout",
     "output_type": "stream",
     "text": [
      "loss = 2.2191295623779297; train_scores = 0.92196550327399; valid_scores = 0.8695764952477895;test_scores = 0.8586188032238128; time_taken = 0:30:49.204999\n"
     ]
    },
    {
     "name": "stderr",
     "output_type": "stream",
     "text": [
      " 30%|███       | 9/30 [4:28:52<10:42:36, 1836.02s/it]"
     ]
    },
    {
     "name": "stdout",
     "output_type": "stream",
     "text": [
      "loss = 2.253415822982788; train_scores = 0.9229307699301083; valid_scores = 0.8642990513498825;test_scores = 0.8576683564717389; time_taken = 0:30:17.612986\n"
     ]
    },
    {
     "name": "stderr",
     "output_type": "stream",
     "text": [
      " 33%|███▎      | 10/30 [4:59:44<10:13:43, 1841.16s/it]"
     ]
    },
    {
     "name": "stdout",
     "output_type": "stream",
     "text": [
      "loss = 2.27488112449646; train_scores = 0.9213171312331636; valid_scores = 0.8585223065994491;test_scores = 0.8541877137771939; time_taken = 0:30:09.930976\n"
     ]
    },
    {
     "name": "stderr",
     "output_type": "stream",
     "text": [
      " 37%|███▋      | 11/30 [5:30:29<9:43:24, 1842.37s/it] "
     ]
    },
    {
     "name": "stdout",
     "output_type": "stream",
     "text": [
      "loss = 2.1563100814819336; train_scores = 0.9237225526893055; valid_scores = 0.8644832099755055;test_scores = 0.8569403785264756; time_taken = 0:29:54.190999\n"
     ]
    },
    {
     "name": "stderr",
     "output_type": "stream",
     "text": [
      " 40%|████      | 12/30 [6:00:58<9:11:30, 1838.34s/it]"
     ]
    },
    {
     "name": "stdout",
     "output_type": "stream",
     "text": [
      "loss = 2.141545295715332; train_scores = 0.9232937731970127; valid_scores = 0.8650853653902804;test_scores = 0.8666190390309889; time_taken = 0:30:50.528434\n"
     ]
    },
    {
     "name": "stderr",
     "output_type": "stream",
     "text": [
      " 43%|████▎     | 13/30 [6:32:24<8:44:54, 1852.64s/it]"
     ]
    },
    {
     "name": "stdout",
     "output_type": "stream",
     "text": [
      "loss = 2.244694948196411; train_scores = 0.9227887802080517; valid_scores = 0.8676722420577748;test_scores = 0.8589810532855322; time_taken = 0:29:48.836000\n"
     ]
    },
    {
     "name": "stderr",
     "output_type": "stream",
     "text": [
      " 47%|████▋     | 14/30 [7:02:48<8:11:42, 1843.93s/it]"
     ]
    },
    {
     "name": "stdout",
     "output_type": "stream",
     "text": [
      "loss = 2.1686744689941406; train_scores = 0.9226282784154745; valid_scores = 0.870472239948539;test_scores = 0.8647663183379218; time_taken = 0:29:52.798967\n"
     ]
    },
    {
     "name": "stderr",
     "output_type": "stream",
     "text": [
      " 50%|█████     | 15/30 [7:33:16<7:39:46, 1839.07s/it]"
     ]
    },
    {
     "name": "stdout",
     "output_type": "stream",
     "text": [
      "loss = 2.2618112564086914; train_scores = 0.9199199818561491; valid_scores = 0.8652512817514413;test_scores = 0.8594017679456072; time_taken = 0:29:57.191998\n"
     ]
    },
    {
     "name": "stderr",
     "output_type": "stream",
     "text": [
      " 53%|█████▎    | 16/30 [8:03:48<7:08:37, 1837.00s/it]"
     ]
    },
    {
     "name": "stdout",
     "output_type": "stream",
     "text": [
      "loss = 2.2797319889068604; train_scores = 0.9154161682257034; valid_scores = 0.8588163923500803;test_scores = 0.856188501245797; time_taken = 0:30:22.769998\n"
     ]
    },
    {
     "name": "stderr",
     "output_type": "stream",
     "text": [
      " 57%|█████▋    | 17/30 [8:34:45<6:39:21, 1843.21s/it]"
     ]
    },
    {
     "name": "stdout",
     "output_type": "stream",
     "text": [
      "loss = 2.1896417140960693; train_scores = 0.9217196252364975; valid_scores = 0.8633779403162676;test_scores = 0.8667906265212761; time_taken = 0:30:39.719999\n"
     ]
    },
    {
     "name": "stderr",
     "output_type": "stream",
     "text": [
      " 60%|██████    | 18/30 [9:06:00<6:10:32, 1852.69s/it]"
     ]
    },
    {
     "name": "stdout",
     "output_type": "stream",
     "text": [
      "loss = 2.303253412246704; train_scores = 0.9201557485948204; valid_scores = 0.8595442980965811;test_scores = 0.8554429640847349; time_taken = 0:30:16.754001\n"
     ]
    },
    {
     "name": "stderr",
     "output_type": "stream",
     "text": [
      " 63%|██████▎   | 19/30 [9:36:52<5:39:36, 1852.41s/it]"
     ]
    },
    {
     "name": "stdout",
     "output_type": "stream",
     "text": [
      "loss = 2.2715678215026855; train_scores = 0.9212877725643478; valid_scores = 0.868974879521956;test_scores = 0.8629663775564346; time_taken = 0:29:53.675000\n"
     ]
    },
    {
     "name": "stderr",
     "output_type": "stream",
     "text": [
      " 67%|██████▋   | 20/30 [10:07:21<5:07:33, 1845.32s/it]"
     ]
    },
    {
     "name": "stdout",
     "output_type": "stream",
     "text": [
      "loss = 2.225497007369995; train_scores = 0.9241393925792513; valid_scores = 0.865958279112446;test_scores = 0.8625882612945649; time_taken = 0:30:18.953000\n"
     ]
    },
    {
     "name": "stderr",
     "output_type": "stream",
     "text": [
      " 70%|███████   | 21/30 [10:38:15<4:37:11, 1847.91s/it]"
     ]
    },
    {
     "name": "stdout",
     "output_type": "stream",
     "text": [
      "loss = 2.261585235595703; train_scores = 0.9270503155608665; valid_scores = 0.866039542257709;test_scores = 0.8660922065756883; time_taken = 0:30:00.247494\n"
     ]
    },
    {
     "name": "stderr",
     "output_type": "stream",
     "text": [
      " 73%|███████▎  | 22/30 [11:08:50<4:05:53, 1844.15s/it]"
     ]
    },
    {
     "name": "stdout",
     "output_type": "stream",
     "text": [
      "loss = 2.272535562515259; train_scores = 0.9243132283967532; valid_scores = 0.8681462526508151;test_scores = 0.8671987566110421; time_taken = 0:30:43.236291\n"
     ]
    },
    {
     "name": "stderr",
     "output_type": "stream",
     "text": [
      " 77%|███████▋  | 23/30 [11:40:09<3:36:21, 1854.48s/it]"
     ]
    },
    {
     "name": "stdout",
     "output_type": "stream",
     "text": [
      "loss = 2.1702334880828857; train_scores = 0.9236002137003047; valid_scores = 0.8660285729271137;test_scores = 0.8624892590113861; time_taken = 0:30:10.763266\n"
     ]
    },
    {
     "name": "stderr",
     "output_type": "stream",
     "text": [
      " 80%|████████  | 24/30 [12:10:54<3:05:11, 1851.87s/it]"
     ]
    },
    {
     "name": "stdout",
     "output_type": "stream",
     "text": [
      "loss = 2.1934447288513184; train_scores = 0.9216390192478806; valid_scores = 0.8630514711323176;test_scores = 0.8551724186272349; time_taken = 0:29:34.904618\n"
     ]
    },
    {
     "name": "stderr",
     "output_type": "stream",
     "text": [
      " 83%|████████▎ | 25/30 [12:41:03<2:33:14, 1838.99s/it]"
     ]
    },
    {
     "name": "stdout",
     "output_type": "stream",
     "text": [
      "loss = 2.227597951889038; train_scores = 0.925792966583785; valid_scores = 0.867634193585333;test_scores = 0.8678390128995394; time_taken = 0:28:16.850652\n"
     ]
    },
    {
     "name": "stderr",
     "output_type": "stream",
     "text": [
      " 87%|████████▋ | 26/30 [13:09:53<2:00:25, 1806.29s/it]"
     ]
    },
    {
     "name": "stdout",
     "output_type": "stream",
     "text": [
      "loss = 2.2217907905578613; train_scores = 0.9286651168001412; valid_scores = 0.8680151954706748;test_scores = 0.8618937368543435; time_taken = 0:28:10.670628\n"
     ]
    },
    {
     "name": "stderr",
     "output_type": "stream",
     "text": [
      " 90%|█████████ | 27/30 [13:38:37<1:29:04, 1781.53s/it]"
     ]
    },
    {
     "name": "stdout",
     "output_type": "stream",
     "text": [
      "loss = 2.076493501663208; train_scores = 0.9260197641723126; valid_scores = 0.8668484708423532;test_scores = 0.8629420213232962; time_taken = 0:31:28.019023\n"
     ]
    },
    {
     "name": "stderr",
     "output_type": "stream",
     "text": [
      " 93%|█████████▎| 28/30 [14:10:39<1:00:46, 1823.48s/it]"
     ]
    },
    {
     "name": "stdout",
     "output_type": "stream",
     "text": [
      "loss = 2.2283947467803955; train_scores = 0.9261512469804072; valid_scores = 0.8719303279675237;test_scores = 0.864200609342259; time_taken = 0:28:30.666666\n"
     ]
    },
    {
     "name": "stderr",
     "output_type": "stream",
     "text": [
      " 97%|█████████▋| 29/30 [14:39:43<29:59, 1799.66s/it]  "
     ]
    },
    {
     "name": "stdout",
     "output_type": "stream",
     "text": [
      "loss = 2.2204537391662598; train_scores = 0.9235849200040607; valid_scores = 0.864358143967663;test_scores = 0.8599051380845463; time_taken = 0:28:25.984980\n"
     ]
    },
    {
     "name": "stderr",
     "output_type": "stream",
     "text": [
      "100%|██████████| 30/30 [15:08:42<00:00, 1817.41s/it]\n"
     ]
    }
   ],
   "source": [
    "checkpoint_dir = \"./30_ensemble_models/\"\n",
    "os.makedirs(checkpoint_dir, exist_ok=True)\n",
    "for i in tqdm(range(n_models)):\n",
    "    model = MPNNPOMModel(n_tasks = n_tasks,\n",
    "                            batch_size=25,\n",
    "                            learning_rate=learning_rate,\n",
    "                            class_imbalance_ratio = train_ratios,\n",
    "                            loss_aggr_type = 'sum',\n",
    "                            node_out_feats = 25,\n",
    "                            edge_hidden_feats = 75,\n",
    "                            edge_out_feats = 25,\n",
    "                            num_step_message_passing = 5,\n",
    "                            mpnn_residual = True,\n",
    "                            message_aggregator_type = 'max',\n",
    "                            mode = 'classification',\n",
    "                            number_atom_features = 133,\n",
    "                            number_bond_features = 14,\n",
    "                            n_classes = 1,\n",
    "                            readout_type = 'set2set',\n",
    "                            num_step_set2set = 3,\n",
    "                            num_layer_set2set = 2,\n",
    "                            ffn_hidden_list= [512, 512],\n",
    "                            ffn_embeddings = 256,\n",
    "                            ffn_activation = 'relu',\n",
    "                            ffn_dropout_p = 0.154493949,\n",
    "                            ffn_dropout_at_input_no_act = False,\n",
    "                            weight_decay = 1.39e-6,\n",
    "                            self_loop = False,\n",
    "                            optimizer_name = 'adam',\n",
    "                            log_frequency = 32,\n",
    "                            model_dir = f'./30_ensemble_models/experiments_{i+1}',\n",
    "                            device_name='cpu')\n",
    "\n",
    "    start_time = datetime.now()\n",
    "    \n",
    "    \n",
    "    loss = model.fit(\n",
    "          train_dataset,\n",
    "          nb_epoch=nb_epoch,\n",
    "          max_checkpoints_to_keep=1,\n",
    "          deterministic=False,\n",
    "          restore=False)\n",
    "    end_time = datetime.now()\n",
    "    \n",
    "    \n",
    "    \n",
    "    \n",
    "    \n",
    "    \n",
    "    \n",
    "    train_scores = model.evaluate(train_dataset, [metric])['roc_auc_score']\n",
    "    valid_scores = model.evaluate(valid_dataset, [metric])['roc_auc_score']\n",
    "    test_scores = model.evaluate(test_dataset, [metric])['roc_auc_score']\n",
    "    print(f\"loss = {loss}; train_scores = {train_scores}; valid_scores = {valid_scores};test_scores = {test_scores}; time_taken = {str(end_time-start_time)}\")\n",
    "    model.save_checkpoint() \n",
    "    del model\n",
    "    gc.collect()\n",
    "    \n",
    "\n",
    "\n",
    "\n",
    " "
   ]
  },
  {
   "cell_type": "code",
   "execution_count": null,
   "metadata": {},
   "outputs": [
    {
     "name": "stderr",
     "output_type": "stream",
     "text": [
      "c:\\Users\\sarab\\miniconda3\\envs\\ENV4\\lib\\site-packages\\deepchem\\models\\torch_models\\torch_model.py:1078: FutureWarning: You are using `torch.load` with `weights_only=False` (the current default value), which uses the default pickle module implicitly. It is possible to construct malicious pickle data which will execute arbitrary code during unpickling (See https://github.com/pytorch/pytorch/blob/main/SECURITY.md#untrusted-models for more details). In a future release, the default value for `weights_only` will be flipped to `True`. This limits the functions that could be executed during unpickling. Arbitrary objects will no longer be allowed to be loaded via this mode unless they are explicitly allowlisted by the user via `torch.serialization.add_safe_globals`. We recommend you start setting `weights_only=True` for any use case where you don't have full control of the loaded file. Please open an issue on GitHub for any issues related to this experimental feature.\n",
      "  data = torch.load(checkpoint, map_location=self.device)\n"
     ]
    },
    {
     "name": "stdout",
     "output_type": "stream",
     "text": [
      "Mean Test ensemble score:  0.8747961566177839\n"
     ]
    }
   ],
   "source": [
    "list_preds = []\n",
    "for i in range(n_models):\n",
    "    model = MPNNPOMModel(n_tasks = n_tasks,\n",
    "                            batch_size=25,\n",
    "                            learning_rate=learning_rate,\n",
    "                            class_imbalance_ratio = train_ratios,\n",
    "                            loss_aggr_type = 'sum',\n",
    "                            node_out_feats = 25,\n",
    "                            edge_hidden_feats = 75,\n",
    "                            edge_out_feats = 25,\n",
    "                            num_step_message_passing = 5,\n",
    "                            mpnn_residual = True,\n",
    "                            message_aggregator_type = 'max',\n",
    "                            mode = 'classification',\n",
    "                            number_atom_features = 133,\n",
    "                            number_bond_features = 14,\n",
    "                            n_classes = 1,\n",
    "                            readout_type = 'set2set',\n",
    "                            num_step_set2set = 3,\n",
    "                            num_layer_set2set = 2,\n",
    "                            ffn_hidden_list= [512, 512],\n",
    "                            ffn_embeddings = 256,\n",
    "                            ffn_activation = 'relu',\n",
    "                            ffn_dropout_p = 0.154493949,\n",
    "                            ffn_dropout_at_input_no_act = False,\n",
    "                            weight_decay = 1.39e-6,\n",
    "                            self_loop = False,\n",
    "                            optimizer_name = 'adam',\n",
    "                            log_frequency = 32,\n",
    "                            model_dir = f'./30_ensemble_models/experiments_{i+1}',\n",
    "                            device_name='cpu')\n",
    "    model.restore(f\"./30_ensemble_models/experiments_{i+1}/checkpoint2.pt\")\n",
    "    \n",
    "    \n",
    "    preds = model.predict(test_dataset)\n",
    "    list_preds.append(preds)\n",
    "\n",
    "preds_arr = np.asarray(list_preds)\n",
    "ensemble_preds = np.mean(preds_arr, axis=0)\n",
    "print(\"Mean Test ensemble score: \", roc_auc_score(test_dataset.y, ensemble_preds, average=\"macro\"))"
   ]
  },
  {
   "cell_type": "code",
   "execution_count": null,
   "metadata": {},
   "outputs": [
    {
     "name": "stderr",
     "output_type": "stream",
     "text": [
      "c:\\Users\\sarab\\miniconda3\\envs\\ENV4\\lib\\site-packages\\deepchem\\models\\torch_models\\torch_model.py:1078: FutureWarning: You are using `torch.load` with `weights_only=False` (the current default value), which uses the default pickle module implicitly. It is possible to construct malicious pickle data which will execute arbitrary code during unpickling (See https://github.com/pytorch/pytorch/blob/main/SECURITY.md#untrusted-models for more details). In a future release, the default value for `weights_only` will be flipped to `True`. This limits the functions that could be executed during unpickling. Arbitrary objects will no longer be allowed to be loaded via this mode unless they are explicitly allowlisted by the user via `torch.serialization.add_safe_globals`. We recommend you start setting `weights_only=True` for any use case where you don't have full control of the loaded file. Please open an issue on GitHub for any issues related to this experimental feature.\n",
      "  data = torch.load(checkpoint, map_location=self.device)\n"
     ]
    },
    {
     "name": "stdout",
     "output_type": "stream",
     "text": [
      "Max Test ensemble score:  0.8690848629860012\n"
     ]
    }
   ],
   "source": [
    "list_preds = []\n",
    "for i in range(n_models):\n",
    "    model = MPNNPOMModel(n_tasks = n_tasks,\n",
    "                            batch_size=25,\n",
    "                            learning_rate=learning_rate,\n",
    "                            class_imbalance_ratio = train_ratios,\n",
    "                            loss_aggr_type = 'sum',\n",
    "                            node_out_feats = 25,\n",
    "                            edge_hidden_feats = 75,\n",
    "                            edge_out_feats = 25,\n",
    "                            num_step_message_passing = 5,\n",
    "                            mpnn_residual = True,\n",
    "                            message_aggregator_type = 'max',\n",
    "                            mode = 'classification',\n",
    "                            number_atom_features = 133,\n",
    "                            number_bond_features = 14,\n",
    "                            n_classes = 1,\n",
    "                            readout_type = 'set2set',\n",
    "                            num_step_set2set = 3,\n",
    "                            num_layer_set2set = 2,\n",
    "                            ffn_hidden_list= [512, 512],\n",
    "                            ffn_embeddings = 256,\n",
    "                            ffn_activation = 'relu',\n",
    "                            ffn_dropout_p = 0.154493949,\n",
    "                            ffn_dropout_at_input_no_act = False,\n",
    "                            weight_decay = 1.39e-6,\n",
    "                            self_loop = False,\n",
    "                            optimizer_name = 'adam',\n",
    "                            log_frequency = 32,\n",
    "                            model_dir = f'./30_ensemble_models/experiments_{i+1}',\n",
    "                            device_name='cpu')\n",
    "    model.restore(f\"./30_ensemble_models/experiments_{i+1}/checkpoint2.pt\")\n",
    "    \n",
    "    \n",
    "    preds = model.predict(test_dataset)\n",
    "    list_preds.append(preds)\n",
    "\n",
    "preds_arr = np.asarray(list_preds)\n",
    "ensemble_preds = np.max(preds_arr, axis=0)\n",
    "print(\"Max Test ensemble score: \", roc_auc_score(test_dataset.y, ensemble_preds, average=\"macro\"))"
   ]
  },
  {
   "cell_type": "code",
   "execution_count": null,
   "metadata": {},
   "outputs": [
    {
     "name": "stderr",
     "output_type": "stream",
     "text": [
      "c:\\Users\\sarab\\miniconda3\\envs\\ENV4\\lib\\site-packages\\deepchem\\models\\torch_models\\torch_model.py:1078: FutureWarning: You are using `torch.load` with `weights_only=False` (the current default value), which uses the default pickle module implicitly. It is possible to construct malicious pickle data which will execute arbitrary code during unpickling (See https://github.com/pytorch/pytorch/blob/main/SECURITY.md#untrusted-models for more details). In a future release, the default value for `weights_only` will be flipped to `True`. This limits the functions that could be executed during unpickling. Arbitrary objects will no longer be allowed to be loaded via this mode unless they are explicitly allowlisted by the user via `torch.serialization.add_safe_globals`. We recommend you start setting `weights_only=True` for any use case where you don't have full control of the loaded file. Please open an issue on GitHub for any issues related to this experimental feature.\n",
      "  data = torch.load(checkpoint, map_location=self.device)\n"
     ]
    },
    {
     "name": "stdout",
     "output_type": "stream",
     "text": [
      "Min Test ensemble score:  0.8645668173608708\n"
     ]
    }
   ],
   "source": [
    "list_preds = []\n",
    "for i in range(n_models):\n",
    "    model = MPNNPOMModel(n_tasks = n_tasks,\n",
    "                            batch_size=25,\n",
    "                            learning_rate=learning_rate,\n",
    "                            class_imbalance_ratio = train_ratios,\n",
    "                            loss_aggr_type = 'sum',\n",
    "                            node_out_feats = 25,\n",
    "                            edge_hidden_feats = 75,\n",
    "                            edge_out_feats = 25,\n",
    "                            num_step_message_passing = 5,\n",
    "                            mpnn_residual = True,\n",
    "                            message_aggregator_type = 'max',\n",
    "                            mode = 'classification',\n",
    "                            number_atom_features = 133,\n",
    "                            number_bond_features = 14,\n",
    "                            n_classes = 1,\n",
    "                            readout_type = 'set2set',\n",
    "                            num_step_set2set = 3,\n",
    "                            num_layer_set2set = 2,\n",
    "                            ffn_hidden_list= [512, 512],\n",
    "                            ffn_embeddings = 256,\n",
    "                            ffn_activation = 'relu',\n",
    "                            ffn_dropout_p = 0.154493949,\n",
    "                            ffn_dropout_at_input_no_act = False,\n",
    "                            weight_decay = 1.39e-6,\n",
    "                            self_loop = False,\n",
    "                            optimizer_name = 'adam',\n",
    "                            log_frequency = 32,\n",
    "                            model_dir = f'./30_ensemble_models/experiments_{i+1}',\n",
    "                            device_name='cpu')\n",
    "    model.restore(f\"./30_ensemble_models/experiments_{i+1}/checkpoint2.pt\")\n",
    "    \n",
    "    \n",
    "    preds = model.predict(test_dataset)\n",
    "    list_preds.append(preds)\n",
    "\n",
    "preds_arr = np.asarray(list_preds)\n",
    "ensemble_preds = np.min(preds_arr, axis=0)\n",
    "print(\"Min Test ensemble score: \", roc_auc_score(test_dataset.y, ensemble_preds, average=\"macro\"))"
   ]
  },
  {
   "cell_type": "code",
   "execution_count": null,
   "metadata": {},
   "outputs": [
    {
     "name": "stderr",
     "output_type": "stream",
     "text": [
      "c:\\Users\\sarab\\miniconda3\\envs\\ENV4\\lib\\site-packages\\deepchem\\models\\torch_models\\torch_model.py:1078: FutureWarning: You are using `torch.load` with `weights_only=False` (the current default value), which uses the default pickle module implicitly. It is possible to construct malicious pickle data which will execute arbitrary code during unpickling (See https://github.com/pytorch/pytorch/blob/main/SECURITY.md#untrusted-models for more details). In a future release, the default value for `weights_only` will be flipped to `True`. This limits the functions that could be executed during unpickling. Arbitrary objects will no longer be allowed to be loaded via this mode unless they are explicitly allowlisted by the user via `torch.serialization.add_safe_globals`. We recommend you start setting `weights_only=True` for any use case where you don't have full control of the loaded file. Please open an issue on GitHub for any issues related to this experimental feature.\n",
      "  data = torch.load(checkpoint, map_location=self.device)\n"
     ]
    },
    {
     "name": "stdout",
     "output_type": "stream",
     "text": [
      "Median Test ensemble score:  0.8742928158301737\n"
     ]
    }
   ],
   "source": [
    "list_preds = []\n",
    "for i in range(n_models):\n",
    "    model = MPNNPOMModel(n_tasks = n_tasks,\n",
    "                            batch_size=25,\n",
    "                            learning_rate=learning_rate,\n",
    "                            class_imbalance_ratio = train_ratios,\n",
    "                            loss_aggr_type = 'sum',\n",
    "                            node_out_feats = 25,\n",
    "                            edge_hidden_feats = 75,\n",
    "                            edge_out_feats = 25,\n",
    "                            num_step_message_passing = 5,\n",
    "                            mpnn_residual = True,\n",
    "                            message_aggregator_type = 'max',\n",
    "                            mode = 'classification',\n",
    "                            number_atom_features = 133,\n",
    "                            number_bond_features = 14,\n",
    "                            n_classes = 1,\n",
    "                            readout_type = 'set2set',\n",
    "                            num_step_set2set = 3,\n",
    "                            num_layer_set2set = 2,\n",
    "                            ffn_hidden_list= [512, 512],\n",
    "                            ffn_embeddings = 256,\n",
    "                            ffn_activation = 'relu',\n",
    "                            ffn_dropout_p = 0.154493949,\n",
    "                            ffn_dropout_at_input_no_act = False,\n",
    "                            weight_decay = 1.39e-6,\n",
    "                            self_loop = False,\n",
    "                            optimizer_name = 'adam',\n",
    "                            log_frequency = 32,\n",
    "                            model_dir = f'./30_ensemble_models/experiments_{i+1}',\n",
    "                            device_name='cpu')\n",
    "    model.restore(f\"./30_ensemble_models/experiments_{i+1}/checkpoint2.pt\")\n",
    "    \n",
    "    \n",
    "    preds = model.predict(test_dataset)\n",
    "    list_preds.append(preds)\n",
    "\n",
    "preds_arr = np.asarray(list_preds)\n",
    "ensemble_preds = np.median(preds_arr, axis=0)\n",
    "print(\"Median Test ensemble score: \", roc_auc_score(test_dataset.y, ensemble_preds, average=\"macro\"))"
   ]
  },
  {
   "cell_type": "code",
   "execution_count": null,
   "metadata": {},
   "outputs": [
    {
     "name": "stderr",
     "output_type": "stream",
     "text": [
      "c:\\Users\\sarab\\miniconda3\\envs\\ENV4\\lib\\site-packages\\deepchem\\models\\torch_models\\torch_model.py:1078: FutureWarning: You are using `torch.load` with `weights_only=False` (the current default value), which uses the default pickle module implicitly. It is possible to construct malicious pickle data which will execute arbitrary code during unpickling (See https://github.com/pytorch/pytorch/blob/main/SECURITY.md#untrusted-models for more details). In a future release, the default value for `weights_only` will be flipped to `True`. This limits the functions that could be executed during unpickling. Arbitrary objects will no longer be allowed to be loaded via this mode unless they are explicitly allowlisted by the user via `torch.serialization.add_safe_globals`. We recommend you start setting `weights_only=True` for any use case where you don't have full control of the loaded file. Please open an issue on GitHub for any issues related to this experimental feature.\n",
      "  data = torch.load(checkpoint, map_location=self.device)\n"
     ]
    },
    {
     "name": "stdout",
     "output_type": "stream",
     "text": [
      "Mean Valid ensemble score:  0.8793698319234277\n"
     ]
    }
   ],
   "source": [
    "list_preds = []\n",
    "for i in range(n_models):\n",
    "    model = MPNNPOMModel(n_tasks = n_tasks,\n",
    "                            batch_size=25,\n",
    "                            learning_rate=learning_rate,\n",
    "                            class_imbalance_ratio = train_ratios,\n",
    "                            loss_aggr_type = 'sum',\n",
    "                            node_out_feats = 25,\n",
    "                            edge_hidden_feats = 75,\n",
    "                            edge_out_feats = 25,\n",
    "                            num_step_message_passing = 5,\n",
    "                            mpnn_residual = True,\n",
    "                            message_aggregator_type = 'max',\n",
    "                            mode = 'classification',\n",
    "                            number_atom_features = 133,\n",
    "                            number_bond_features = 14,\n",
    "                            n_classes = 1,\n",
    "                            readout_type = 'set2set',\n",
    "                            num_step_set2set = 3,\n",
    "                            num_layer_set2set = 2,\n",
    "                            ffn_hidden_list= [512, 512],\n",
    "                            ffn_embeddings = 256,\n",
    "                            ffn_activation = 'relu',\n",
    "                            ffn_dropout_p = 0.154493949,\n",
    "                            ffn_dropout_at_input_no_act = False,\n",
    "                            weight_decay = 1.39e-6,\n",
    "                            self_loop = False,\n",
    "                            optimizer_name = 'adam',\n",
    "                            log_frequency = 32,\n",
    "                            model_dir = f'./30_ensemble_models/experiments_{i+1}',\n",
    "                            device_name='cpu')\n",
    "    model.restore(f\"./30_ensemble_models/experiments_{i+1}/checkpoint2.pt\")\n",
    "    \n",
    "    \n",
    "    preds = model.predict(valid_dataset)\n",
    "    list_preds.append(preds)\n",
    "\n",
    "preds_arr = np.asarray(list_preds)\n",
    "ensemble_preds = np.mean(preds_arr, axis=0)\n",
    "print(\"Mean Valid ensemble score: \", roc_auc_score(valid_dataset.y, ensemble_preds, average=\"macro\"))"
   ]
  },
  {
   "cell_type": "markdown",
   "metadata": {},
   "source": []
  },
  {
   "cell_type": "code",
   "execution_count": null,
   "metadata": {},
   "outputs": [
    {
     "name": "stderr",
     "output_type": "stream",
     "text": [
      "c:\\Users\\sarab\\miniconda3\\envs\\ENV4\\lib\\site-packages\\deepchem\\models\\torch_models\\torch_model.py:1078: FutureWarning: You are using `torch.load` with `weights_only=False` (the current default value), which uses the default pickle module implicitly. It is possible to construct malicious pickle data which will execute arbitrary code during unpickling (See https://github.com/pytorch/pytorch/blob/main/SECURITY.md#untrusted-models for more details). In a future release, the default value for `weights_only` will be flipped to `True`. This limits the functions that could be executed during unpickling. Arbitrary objects will no longer be allowed to be loaded via this mode unless they are explicitly allowlisted by the user via `torch.serialization.add_safe_globals`. We recommend you start setting `weights_only=True` for any use case where you don't have full control of the loaded file. Please open an issue on GitHub for any issues related to this experimental feature.\n",
      "  data = torch.load(checkpoint, map_location=self.device)\n"
     ]
    },
    {
     "name": "stdout",
     "output_type": "stream",
     "text": [
      "Max Valid ensemble score:  0.8707364997960599\n"
     ]
    }
   ],
   "source": [
    "list_preds = []\n",
    "for i in range(n_models):\n",
    "    model = MPNNPOMModel(n_tasks = n_tasks,\n",
    "                            batch_size=25,\n",
    "                            learning_rate=learning_rate,\n",
    "                            class_imbalance_ratio = train_ratios,\n",
    "                            loss_aggr_type = 'sum',\n",
    "                            node_out_feats = 25,\n",
    "                            edge_hidden_feats = 75,\n",
    "                            edge_out_feats = 25,\n",
    "                            num_step_message_passing = 5,\n",
    "                            mpnn_residual = True,\n",
    "                            message_aggregator_type = 'max',\n",
    "                            mode = 'classification',\n",
    "                            number_atom_features = 133,\n",
    "                            number_bond_features = 14,\n",
    "                            n_classes = 1,\n",
    "                            readout_type = 'set2set',\n",
    "                            num_step_set2set = 3,\n",
    "                            num_layer_set2set = 2,\n",
    "                            ffn_hidden_list= [512, 512],\n",
    "                            ffn_embeddings = 256,\n",
    "                            ffn_activation = 'relu',\n",
    "                            ffn_dropout_p = 0.154493949,\n",
    "                            ffn_dropout_at_input_no_act = False,\n",
    "                            weight_decay = 1.39e-6,\n",
    "                            self_loop = False,\n",
    "                            optimizer_name = 'adam',\n",
    "                            log_frequency = 32,\n",
    "                            model_dir = f'./30_ensemble_models/experiments_{i+1}',\n",
    "                            device_name='cpu')\n",
    "    model.restore(f\"./30_ensemble_models/experiments_{i+1}/checkpoint2.pt\")\n",
    "    \n",
    "    \n",
    "    preds = model.predict(valid_dataset)\n",
    "    list_preds.append(preds)\n",
    "\n",
    "preds_arr = np.asarray(list_preds)\n",
    "ensemble_preds = np.max(preds_arr, axis=0)\n",
    "print(\"Max Valid ensemble score: \", roc_auc_score(valid_dataset.y, ensemble_preds, average=\"macro\"))"
   ]
  },
  {
   "cell_type": "code",
   "execution_count": null,
   "metadata": {},
   "outputs": [
    {
     "name": "stderr",
     "output_type": "stream",
     "text": [
      "c:\\Users\\sarab\\miniconda3\\envs\\ENV4\\lib\\site-packages\\deepchem\\models\\torch_models\\torch_model.py:1078: FutureWarning: You are using `torch.load` with `weights_only=False` (the current default value), which uses the default pickle module implicitly. It is possible to construct malicious pickle data which will execute arbitrary code during unpickling (See https://github.com/pytorch/pytorch/blob/main/SECURITY.md#untrusted-models for more details). In a future release, the default value for `weights_only` will be flipped to `True`. This limits the functions that could be executed during unpickling. Arbitrary objects will no longer be allowed to be loaded via this mode unless they are explicitly allowlisted by the user via `torch.serialization.add_safe_globals`. We recommend you start setting `weights_only=True` for any use case where you don't have full control of the loaded file. Please open an issue on GitHub for any issues related to this experimental feature.\n",
      "  data = torch.load(checkpoint, map_location=self.device)\n"
     ]
    },
    {
     "name": "stdout",
     "output_type": "stream",
     "text": [
      "Min Valid ensemble score:  0.8737619850412229\n"
     ]
    }
   ],
   "source": [
    "list_preds = []\n",
    "for i in range(n_models):\n",
    "    model = MPNNPOMModel(n_tasks = n_tasks,\n",
    "                            batch_size=25,\n",
    "                            learning_rate=learning_rate,\n",
    "                            class_imbalance_ratio = train_ratios,\n",
    "                            loss_aggr_type = 'sum',\n",
    "                            node_out_feats = 25,\n",
    "                            edge_hidden_feats = 75,\n",
    "                            edge_out_feats = 25,\n",
    "                            num_step_message_passing = 5,\n",
    "                            mpnn_residual = True,\n",
    "                            message_aggregator_type = 'max',\n",
    "                            mode = 'classification',\n",
    "                            number_atom_features = 133,\n",
    "                            number_bond_features = 14,\n",
    "                            n_classes = 1,\n",
    "                            readout_type = 'set2set',\n",
    "                            num_step_set2set = 3,\n",
    "                            num_layer_set2set = 2,\n",
    "                            ffn_hidden_list= [512, 512],\n",
    "                            ffn_embeddings = 256,\n",
    "                            ffn_activation = 'relu',\n",
    "                            ffn_dropout_p = 0.154493949,\n",
    "                            ffn_dropout_at_input_no_act = False,\n",
    "                            weight_decay = 1.39e-6,\n",
    "                            self_loop = False,\n",
    "                            optimizer_name = 'adam',\n",
    "                            log_frequency = 32,\n",
    "                            model_dir = f'./30_ensemble_models/experiments_{i+1}',\n",
    "                            device_name='cpu')\n",
    "    model.restore(f\"./30_ensemble_models/experiments_{i+1}/checkpoint2.pt\")\n",
    "    \n",
    "    \n",
    "    preds = model.predict(valid_dataset)\n",
    "    list_preds.append(preds)\n",
    "\n",
    "preds_arr = np.asarray(list_preds)\n",
    "ensemble_preds = np.min(preds_arr, axis=0)\n",
    "print(\"Min Valid ensemble score: \", roc_auc_score(valid_dataset.y, ensemble_preds, average=\"macro\"))"
   ]
  },
  {
   "cell_type": "code",
   "execution_count": null,
   "metadata": {},
   "outputs": [
    {
     "name": "stderr",
     "output_type": "stream",
     "text": [
      "c:\\Users\\sarab\\miniconda3\\envs\\ENV4\\lib\\site-packages\\deepchem\\models\\torch_models\\torch_model.py:1078: FutureWarning: You are using `torch.load` with `weights_only=False` (the current default value), which uses the default pickle module implicitly. It is possible to construct malicious pickle data which will execute arbitrary code during unpickling (See https://github.com/pytorch/pytorch/blob/main/SECURITY.md#untrusted-models for more details). In a future release, the default value for `weights_only` will be flipped to `True`. This limits the functions that could be executed during unpickling. Arbitrary objects will no longer be allowed to be loaded via this mode unless they are explicitly allowlisted by the user via `torch.serialization.add_safe_globals`. We recommend you start setting `weights_only=True` for any use case where you don't have full control of the loaded file. Please open an issue on GitHub for any issues related to this experimental feature.\n",
      "  data = torch.load(checkpoint, map_location=self.device)\n"
     ]
    },
    {
     "name": "stdout",
     "output_type": "stream",
     "text": [
      "Median Valid ensemble score:  0.8785904945076761\n"
     ]
    }
   ],
   "source": [
    "list_preds = []\n",
    "for i in range(n_models):\n",
    "    model = MPNNPOMModel(n_tasks = n_tasks,\n",
    "                            batch_size=25,\n",
    "                            learning_rate=learning_rate,\n",
    "                            class_imbalance_ratio = train_ratios,\n",
    "                            loss_aggr_type = 'sum',\n",
    "                            node_out_feats = 25,\n",
    "                            edge_hidden_feats = 75,\n",
    "                            edge_out_feats = 25,\n",
    "                            num_step_message_passing = 5,\n",
    "                            mpnn_residual = True,\n",
    "                            message_aggregator_type = 'max',\n",
    "                            mode = 'classification',\n",
    "                            number_atom_features = 133,\n",
    "                            number_bond_features = 14,\n",
    "                            n_classes = 1,\n",
    "                            readout_type = 'set2set',\n",
    "                            num_step_set2set = 3,\n",
    "                            num_layer_set2set = 2,\n",
    "                            ffn_hidden_list= [512, 512],\n",
    "                            ffn_embeddings = 256,\n",
    "                            ffn_activation = 'relu',\n",
    "                            ffn_dropout_p = 0.154493949,\n",
    "                            ffn_dropout_at_input_no_act = False,\n",
    "                            weight_decay = 1.39e-6,\n",
    "                            self_loop = False,\n",
    "                            optimizer_name = 'adam',\n",
    "                            log_frequency = 32,\n",
    "                            model_dir = f'./30_ensemble_models/experiments_{i+1}',\n",
    "                            device_name='cpu')\n",
    "    model.restore(f\"./30_ensemble_models/experiments_{i+1}/checkpoint2.pt\")\n",
    "    \n",
    "    \n",
    "    preds = model.predict(valid_dataset)\n",
    "    list_preds.append(preds)\n",
    "\n",
    "preds_arr = np.asarray(list_preds)\n",
    "ensemble_preds = np.median(preds_arr, axis=0)\n",
    "print(\"Median Valid ensemble score: \", roc_auc_score(valid_dataset.y, ensemble_preds, average=\"macro\"))"
   ]
  },
  {
   "cell_type": "code",
   "execution_count": null,
   "metadata": {},
   "outputs": [],
   "source": []
  }
 ],
 "metadata": {
  "kernelspec": {
   "display_name": "ENV4",
   "language": "python",
   "name": "python3"
  },
  "language_info": {
   "codemirror_mode": {
    "name": "ipython",
    "version": 3
   },
   "file_extension": ".py",
   "mimetype": "text/x-python",
   "name": "python",
   "nbconvert_exporter": "python",
   "pygments_lexer": "ipython3",
   "version": "3.9.19"
  }
 },
 "nbformat": 4,
 "nbformat_minor": 2
}
